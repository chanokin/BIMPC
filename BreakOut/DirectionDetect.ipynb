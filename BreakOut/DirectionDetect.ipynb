{
 "cells": [
  {
   "cell_type": "code",
   "execution_count": 1,
   "metadata": {
    "collapsed": false
   },
   "outputs": [],
   "source": [
    "def setup_cam_pop(sim, spike_array, img_w, img_h, w2s=1.6):\n",
    "    pop_size = img_w*img_h*2\n",
    "    cell = sim.IF_curr_exp\n",
    "    params = { 'cm': 0.2,  # nF\n",
    "               'i_offset': 0.0,\n",
    "               'tau_m': 10.0,\n",
    "               'tau_refrac': 2.0,\n",
    "               'tau_syn_E': 1.,\n",
    "               'tau_syn_I': 1.,\n",
    "               'v_reset': -70.0,\n",
    "               'v_rest': -65.0,\n",
    "               'v_thresh': -55.4\n",
    "             }\n",
    "    cam_pop = sim.Population(pop_size, cell, params,\n",
    "                             label='camera')\n",
    "    dmy_pops = []\n",
    "    dmy_prjs = []\n",
    "    for i in range(pop_size):\n",
    "        dmy_pops.append(sim.Population(1, sim.SpikeSourceArray, \n",
    "                                       {'spike_times': spike_array[i]},\n",
    "                                       label='pixel (row, col) = (%d, %d)'%\\\n",
    "                                       (i//img_w, i%img_w)))\n",
    "        conn = [(0, i, w2s, 1)]\n",
    "        dmy_prjs.append(sim.Projection(dmy_pops[i], cam_pop,\n",
    "                                       sim.FromListConnector(conn),\n",
    "                                       target='excitatory'))\n",
    "    \n",
    "    return cam_pop, dmy_pops, dmy_prjs"
   ]
  },
  {
   "cell_type": "code",
   "execution_count": 6,
   "metadata": {
    "collapsed": false
   },
   "outputs": [
    {
     "name": "stdout",
     "output_type": "stream",
     "text": [
      "sim time: 2133.0\n",
      "Delays used: [ 100.           66.66666667   33.33333333    1.        ]\n",
      "OK\n"
     ]
    }
   ],
   "source": [
    "import numpy as np\n",
    "from vision.spike_tools.pattern.pattern_generator import *\n",
    "from pyNN import nest as sim\n",
    "# from pyNN import spiNNaker as sim\n",
    "from vision.retina import Retina, dvs_modes, MERGED\n",
    "\n",
    "#setup simulator\n",
    "sim.setup(timestep=1., max_delay=100., min_delay=1.)\n",
    "\n",
    "#Stimulus parameters\n",
    "#frame rate\n",
    "fps=30\n",
    "#frame length\n",
    "ft=1./fps\n",
    "#width (pixels)\n",
    "img_w=32\n",
    "#height (pixels)\n",
    "img_h=32\n",
    "#number of pixels to calculate across\n",
    "div=4\n",
    "#corresponding chunk size\n",
    "chunks_horz=img_w/div\n",
    "chunks_vert=img_h/div\n",
    "\n",
    "w2s = 1.6\n",
    "\n",
    "simulationTime=np.round(2*img_h*1000*ft)#2134. #ms\n",
    "print 'sim time:',simulationTime\n",
    "\n",
    "cell = sim.IF_curr_exp\n",
    "params = { 'cm': 0.2,  # nF\n",
    "           'i_offset': 0.0,\n",
    "           'tau_m': 10.0,\n",
    "           'tau_refrac': 2.0,\n",
    "           'tau_syn_E': 1.,\n",
    "           'tau_syn_I': 1.,\n",
    "           'v_reset': -70.0,\n",
    "           'v_rest': -65.0,\n",
    "           'v_thresh': -55.4\n",
    "         }\n",
    "\n",
    "#Obtain Spike source array from txt file\n",
    "SSA=img_spikes_from_to(\"../inputs/spikes_pol_2.txt\", 2*img_w*img_h, 0, 1,simulationTime,0,0)\n",
    "#SSA=img_spikes_from_to(\"./moving_bar_spikes/deg_90___dx_1.000000/spikes_pol_MERGED_enc_RATE_thresh_25_hist_99_inh_False___1_frames_at_30fps_16x16_res_spikes.txt\",\n",
    "     #                 2*img_w*img_h, 0, 1,simulationTime,0,0)\n",
    "\n",
    "#generate input populations    \n",
    "inputPop, ssa_cam, prj_cam = setup_cam_pop(sim, SSA, \n",
    "                                      img_w, img_h, w2s=w2s)\n",
    "\n",
    "ON_pop = inputPop[0:(img_w*img_h)-1]\n",
    "OFF_pop= inputPop[img_w*img_h:(2*img_w*img_h)-1]\n",
    "\n",
    "#setup speed delays\n",
    "delaysList=range(div-1,-1,-1)\n",
    "#print delaysList\n",
    "Delays_medium=np.array(delaysList)*ft*1000\n",
    "Delays_medium[div-1]=1.\n",
    "print \"Delays used:\",Delays_medium\n",
    "\n",
    "#initialise connection lists\n",
    "Connections_right=[]\n",
    "Connections_left=[]\n",
    "Connections_up=[]\n",
    "Connections_down=[]\n",
    "\n",
    "#Specify Populations\n",
    "rpop=sim.Population(chunks_horz*img_h, cell,  label=\"right\")\n",
    "lpop=sim.Population(chunks_horz*img_h, cell,  label=\"left\")\n",
    "upop=sim.Population(chunks_vert*img_w, cell,  label=\"up\")\n",
    "dpop=sim.Population(chunks_vert*img_w, cell,  label=\"down\")\n",
    "\n",
    "#declare fixed projection weight\n",
    "#weight=0.5 #0.0554/4\n",
    "weight=2./div\n",
    "\n",
    "#generate relevant connection lists\n",
    "#left/right connections\n",
    "for i in range(0,(chunks_horz-1)*img_h):\n",
    "\n",
    "    for j in range(1,div+1):    \n",
    "        Connections_right.append([j+(div*i)-1,i,weight,Delays_medium[j-1]])\n",
    "        Connections_left.append([j+(div*i)-1,i,weight,Delays_medium[div-j]])\n",
    "        \n",
    "#up/down connections\n",
    "for i in range(0,(chunks_vert-1)*img_w):\n",
    "    \n",
    "    for j in range(1,div+1):       \n",
    "        Connections_down.append([(((j-1)*img_w)+i),i,weight,Delays_medium[div-j]])\n",
    "        #Connections_down.append([(((j-1)*img_w)+(i*img_w*div)),i,weight,Delays_medium[div-j]])\n",
    "        Connections_up.append([(((j-1)*img_w)+i),i,weight,Delays_medium[j-1]])\n",
    "\n",
    "#print Connections_down\n",
    "\n",
    "#setup projections\n",
    "projectionRightExcited=sim.Projection(ON_pop,rpop,sim.FromListConnector(Connections_right))\n",
    "projectionLeftExcited=sim.Projection(ON_pop,lpop,sim.FromListConnector(Connections_left))\n",
    "projectionUpExcited=sim.Projection(ON_pop,upop,sim.FromListConnector(Connections_up))\n",
    "projectionDownExcited=sim.Projection(ON_pop,dpop,sim.FromListConnector(Connections_down))\n",
    "\n",
    "#declare simulator requirements\n",
    "inputPop.record('spikes')\n",
    "rpop.record('spikes')\n",
    "lpop.record('spikes')\n",
    "upop.record('spikes')\n",
    "dpop.record('spikes')\n",
    "\n",
    "\n",
    "#print Connections_left\n",
    "#print Connections_right\n",
    "print 'OK'\n",
    "\n"
   ]
  },
  {
   "cell_type": "code",
   "execution_count": 3,
   "metadata": {
    "collapsed": false
   },
   "outputs": [
    {
     "ename": "NameError",
     "evalue": "name 'sim' is not defined",
     "output_type": "error",
     "traceback": [
      "\u001b[0;31m---------------------------------------------------------------------------\u001b[0m",
      "\u001b[0;31mNameError\u001b[0m                                 Traceback (most recent call last)",
      "\u001b[0;32m<ipython-input-3-aaa312bec5ff>\u001b[0m in \u001b[0;36m<module>\u001b[0;34m()\u001b[0m\n\u001b[0;32m----> 1\u001b[0;31m \u001b[0msim\u001b[0m\u001b[0;34m.\u001b[0m\u001b[0mrun\u001b[0m\u001b[0;34m(\u001b[0m\u001b[0msimulationTime\u001b[0m\u001b[0;34m)\u001b[0m\u001b[0;34m\u001b[0m\u001b[0m\n\u001b[0m\u001b[1;32m      2\u001b[0m \u001b[0min_spks\u001b[0m\u001b[0;34m=\u001b[0m\u001b[0minputPop\u001b[0m\u001b[0;34m.\u001b[0m\u001b[0mgetSpikes\u001b[0m\u001b[0;34m(\u001b[0m\u001b[0;34m)\u001b[0m\u001b[0;34m\u001b[0m\u001b[0m\n\u001b[1;32m      3\u001b[0m \u001b[0mright_spks\u001b[0m\u001b[0;34m=\u001b[0m\u001b[0mrpop\u001b[0m\u001b[0;34m.\u001b[0m\u001b[0mgetSpikes\u001b[0m\u001b[0;34m(\u001b[0m\u001b[0;34m)\u001b[0m\u001b[0;34m\u001b[0m\u001b[0m\n\u001b[1;32m      4\u001b[0m \u001b[0mleft_spks\u001b[0m\u001b[0;34m=\u001b[0m\u001b[0mlpop\u001b[0m\u001b[0;34m.\u001b[0m\u001b[0mgetSpikes\u001b[0m\u001b[0;34m(\u001b[0m\u001b[0;34m)\u001b[0m\u001b[0;34m\u001b[0m\u001b[0m\n\u001b[1;32m      5\u001b[0m \u001b[0mdown_spks\u001b[0m\u001b[0;34m=\u001b[0m\u001b[0mupop\u001b[0m\u001b[0;34m.\u001b[0m\u001b[0mgetSpikes\u001b[0m\u001b[0;34m(\u001b[0m\u001b[0;34m)\u001b[0m\u001b[0;34m\u001b[0m\u001b[0m\n",
      "\u001b[0;31mNameError\u001b[0m: name 'sim' is not defined"
     ]
    }
   ],
   "source": [
    "sim.run(simulationTime)\n",
    "in_spks=inputPop.getSpikes()\n",
    "right_spks=rpop.getSpikes()\n",
    "left_spks=lpop.getSpikes()\n",
    "down_spks=upop.getSpikes()\n",
    "up_spks=dpop.getSpikes()\n",
    "\n",
    "sim.end()\n",
    "\n",
    "print 'OK'\n"
   ]
  },
  {
   "cell_type": "code",
   "execution_count": 4,
   "metadata": {
    "collapsed": false
   },
   "outputs": [
    {
     "ename": "NameError",
     "evalue": "name 'in_spks' is not defined",
     "output_type": "error",
     "traceback": [
      "\u001b[0;31m---------------------------------------------------------------------------\u001b[0m",
      "\u001b[0;31mNameError\u001b[0m                                 Traceback (most recent call last)",
      "\u001b[0;32m<ipython-input-4-838d881b6845>\u001b[0m in \u001b[0;36m<module>\u001b[0;34m()\u001b[0m\n\u001b[1;32m      3\u001b[0m \u001b[0;32mfrom\u001b[0m \u001b[0mvision\u001b[0m\u001b[0;34m.\u001b[0m\u001b[0mspike_tools\u001b[0m\u001b[0;34m.\u001b[0m\u001b[0mvis\u001b[0m \u001b[0;32mimport\u001b[0m \u001b[0mmy_imshow\u001b[0m\u001b[0;34m,\u001b[0m \u001b[0mplot_spikes\u001b[0m\u001b[0;34m,\u001b[0m                                    \u001b[0mplot_output_spikes\u001b[0m\u001b[0;34m,\u001b[0m                                    \u001b[0mimgs_in_T_from_spike_array\u001b[0m\u001b[0;34m\u001b[0m\u001b[0m\n\u001b[1;32m      4\u001b[0m \u001b[0mplt\u001b[0m\u001b[0;34m.\u001b[0m\u001b[0mfigure\u001b[0m\u001b[0;34m(\u001b[0m\u001b[0;34m)\u001b[0m\u001b[0;34m\u001b[0m\u001b[0m\n\u001b[0;32m----> 5\u001b[0;31m \u001b[0mplot_output_spikes\u001b[0m\u001b[0;34m(\u001b[0m\u001b[0min_spks\u001b[0m\u001b[0;34m,\u001b[0m\u001b[0mplotter\u001b[0m\u001b[0;34m=\u001b[0m\u001b[0mplt\u001b[0m\u001b[0;34m)\u001b[0m\u001b[0;34m\u001b[0m\u001b[0m\n\u001b[0m\u001b[1;32m      6\u001b[0m \u001b[0mplt\u001b[0m\u001b[0;34m.\u001b[0m\u001b[0mfigure\u001b[0m\u001b[0;34m(\u001b[0m\u001b[0;34m)\u001b[0m\u001b[0;34m\u001b[0m\u001b[0m\n\u001b[1;32m      7\u001b[0m \u001b[0mplot_output_spikes\u001b[0m\u001b[0;34m(\u001b[0m\u001b[0mright_spks\u001b[0m\u001b[0;34m,\u001b[0m\u001b[0mplotter\u001b[0m\u001b[0;34m=\u001b[0m\u001b[0mplt\u001b[0m\u001b[0;34m)\u001b[0m\u001b[0;34m\u001b[0m\u001b[0m\n",
      "\u001b[0;31mNameError\u001b[0m: name 'in_spks' is not defined"
     ]
    }
   ],
   "source": [
    "import pylab as plt\n",
    "\n",
    "from vision.spike_tools.vis import my_imshow, plot_spikes, \\\n",
    "                                   plot_output_spikes, \\\n",
    "                                   imgs_in_T_from_spike_array\n",
    "plt.figure()              \n",
    "plot_output_spikes(in_spks,plotter=plt)\n",
    "plt.figure()               \n",
    "plot_output_spikes(right_spks,plotter=plt)\n",
    "plt.figure()                \n",
    "plot_output_spikes(left_spks,plotter=plt)\n",
    "plt.figure()     \n",
    "plot_output_spikes(down_spks,plotter=plt)\n",
    "plt.figure()     \n",
    "plot_output_spikes(up_spks,plotter=plt)\n",
    "plt.xlim([0,simulationTime])\n",
    "plt.show()"
   ]
  },
  {
   "cell_type": "code",
   "execution_count": null,
   "metadata": {
    "collapsed": false
   },
   "outputs": [],
   "source": [
    "import scipy.misc\n",
    "\n",
    "numFrames=int(np.ceil(fps*(simulationTime/1000)))\n",
    "\n",
    "speedMovie=np.zeros([img_h,img_w,numFrames],dtype='uint8')\n",
    "\n",
    "\n",
    "#Build movie of right speed neuron outputs\n",
    "for f in range(numFrames):\n",
    "    \n",
    "    for i in right_spks:\n",
    "        ID=i[0]\n",
    "        time=i[1]/1000\n",
    "        #pixel ID\n",
    "        pxID=ID*div\n",
    "        #y coordinate\n",
    "        y=np.ceil(pxID/img_w)\n",
    "        #y=np.ceil(ID/(img_w/div))\n",
    "        #x coordinate\n",
    "       # x=pxID/y\n",
    "        #x=ID-((y-1)*(img_w/div))\n",
    "        x=pxID-((y-1)*(img_w))\n",
    "        #light up corresponding speedImage pixels\n",
    "        #Also light up the preceding ID-div neurons\n",
    "        if time<=ft*f and time>(ft*(f-1)):\n",
    "            speedMovie[y,(x-div):x,f]=255\n",
    "           # speedMovie[y,x:(x+div),f]=255\n",
    "\n",
    "            #print time\n",
    "        #set pixels off\n",
    "        else:\n",
    "            speedMovie[y,(x-div):x,f]=0\n",
    "            #speedMovie[y,x:(x+div),f]=0\n",
    "          #  print x,y\n",
    "          #  speedMovie[y,x,f]=0\n",
    "\n",
    "\n",
    "     #write out frame to file\n",
    "    #fname=\"./rightMovie/frame_%05d.png\"\n",
    "    fname=\"./movies/rightMovie/frame_%05d.png\"\n",
    "    scipy.misc.imsave(fname%(f), speedMovie[:,:,f])\n",
    "\n",
    "#print speedMovie\n",
    "print numFrames\n",
    "\n",
    "  "
   ]
  },
  {
   "cell_type": "code",
   "execution_count": null,
   "metadata": {
    "collapsed": false
   },
   "outputs": [],
   "source": [
    "import scipy.misc\n",
    "\n",
    "numFrames=int(np.ceil(fps*(simulationTime/1000)))\n",
    "\n",
    "speedMovie=np.zeros([img_h,img_w,numFrames],dtype='uint8')\n",
    "\n",
    "count=0\n",
    "\n",
    "#Build movie of right speed neuron outputs\n",
    "for f in range(numFrames):\n",
    " \n",
    "    speedMovie[:,count,f]=255\n",
    "    count=count+1\n",
    "     #write out frame to file\n",
    "    fname=\"./rightMovie/frame_%05d.png\"\n",
    "    scipy.misc.imsave(fname%(f), speedMovie[:,:,f])\n"
   ]
  },
  {
   "cell_type": "code",
   "execution_count": null,
   "metadata": {
    "collapsed": false
   },
   "outputs": [],
   "source": [
    "print down_spks"
   ]
  },
  {
   "cell_type": "code",
   "execution_count": 41,
   "metadata": {
    "collapsed": false
   },
   "outputs": [
    {
     "name": "stdout",
     "output_type": "stream",
     "text": [
      "33\n"
     ]
    }
   ],
   "source": [
    "import scipy.misc\n",
    "\n",
    "numFrames=int(np.ceil(fps*(simulationTime/1000)))\n",
    "\n",
    "speedMovie=np.zeros([img_h,img_w,numFrames],dtype='uint8')\n",
    "\n",
    "\n",
    "#Build movie of down speed neuron outputs\n",
    "for f in range(numFrames):\n",
    "    \n",
    "    for i in down_spks:\n",
    "        ID=i[0]\n",
    "        time=i[1]/1000\n",
    "        #pixel ID\n",
    "        #pxID=ID+(img_w*div)\n",
    " \n",
    "        #x coordinate      \n",
    "        x=ID-(np.floor(ID/img_w)*img_w)\n",
    "        \n",
    "        #y coordinate\n",
    "        y=np.ceil(ID/img_w)*div        \n",
    "        \n",
    "        #print ID,time,x,y\n",
    "        \n",
    "        #light up corresponding speedImage pixels\n",
    "        #Also light up the preceding ID-div neurons\n",
    "        if time<=ft*f and time>(ft*(f-1)):\n",
    "            #print y\n",
    "            speedMovie[y-div:y,x,f]=255\n",
    "            #speedMovie[y:y+div,x,f]=255\n",
    "            #print time\n",
    "        #set pixels off\n",
    "        else:\n",
    "            #print x,y,div\n",
    "            speedMovie[y-div:y,x,f]=0\n",
    "            #speedMovie[y:y+div,x,f]=0\n",
    "\n",
    "\n",
    "     #write out frame to file\n",
    "    fname=\"./movies/diagonalMovie/frame_%05d.png\"\n",
    "    scipy.misc.imsave(fname%(f), speedMovie[:,:,f])\n",
    "\n",
    "#print speedMovie\n",
    "print numFrames"
   ]
  },
  {
   "cell_type": "code",
   "execution_count": 2,
   "metadata": {
    "collapsed": false
   },
   "outputs": [],
   "source": [
    "from pyNN import spiNNaker as sim"
   ]
  },
  {
   "cell_type": "code",
   "execution_count": null,
   "metadata": {
    "collapsed": false
   },
   "outputs": [],
   "source": []
  }
 ],
 "metadata": {
  "kernelspec": {
   "display_name": "Python 2",
   "language": "python2",
   "name": "python2"
  },
  "language_info": {
   "codemirror_mode": {
    "name": "ipython",
    "version": 2
   },
   "file_extension": ".py",
   "mimetype": "text/x-python",
   "name": "python",
   "nbconvert_exporter": "python",
   "pygments_lexer": "ipython2",
   "version": "2.7.13"
  }
 },
 "nbformat": 4,
 "nbformat_minor": 0
}
