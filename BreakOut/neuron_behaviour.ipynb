{
 "cells": [
  {
   "cell_type": "code",
   "execution_count": 7,
   "metadata": {
    "collapsed": true
   },
   "outputs": [],
   "source": [
    "%matplotlib inline\n",
    "%reload_ext autoreload\n",
    "%autoreload 2\n",
    "\n",
    "import numpy as np\n",
    "import pylab as plt\n",
    "\n",
    "from vision.spike_tools.pattern import pattern_generator as pat_gen\n",
    "from vision.spike_tools.vis import vis_tools as spk_vis\n",
    "from vision.sim_tools.connectors import standard_connectors as std_conn\n",
    "\n",
    "# from pyNN import nest as sim\n",
    "from pyNN import spiNNaker as sim\n",
    "# if sim.__name__ == 'pyNN.spiNNaker':\n",
    "#     import spynnaker_extra_pynn_models as q\n",
    "\n"
   ]
  },
  {
   "cell_type": "code",
   "execution_count": null,
   "metadata": {
    "collapsed": true
   },
   "outputs": [],
   "source": []
  },
  {
   "cell_type": "code",
   "execution_count": 8,
   "metadata": {
    "collapsed": false
   },
   "outputs": [],
   "source": [
    "def set_in_pop(sim, single_patt, num_neurons, w2s=2.):\n",
    "#     print(\"Setting-up Input population...\")\n",
    "\n",
    "    cell = sim.IF_curr_exp\n",
    "    params = { 'cm': 0.2,  # nF\n",
    "               'i_offset': 0.0,\n",
    "               'tau_m': 10.0,\n",
    "               'tau_refrac': 2.0,\n",
    "               'tau_syn_E': 2.,\n",
    "               'tau_syn_I': 2.,\n",
    "               'v_reset': -70.0,\n",
    "               'v_rest': -65.0,\n",
    "               'v_thresh': -55.4\n",
    "             }\n",
    "    dmy_pops = []\n",
    "    dmy_prjs = []\n",
    "    \n",
    "    if sim.__name__ == 'pyNN.nest':\n",
    "        in_pop = sim.Population(num_neurons, cell, params, label='input pattern')\n",
    "        for i in range(num_neurons):\n",
    "            dmy_pops.append( sim.Population(1, sim.SpikeSourceArray, \n",
    "                                            {'spike_times': single_patt[i]},\n",
    "                                            label='dummy neuron %d'%i) )\n",
    "            conn = [(0, i, w2s, 1)]\n",
    "            dmy_prjs.append(sim.Projection(dmy_pops[i], in_pop,\n",
    "                                           sim.FromListConnector(conn),\n",
    "                                           target='excitatory'))\n",
    "\n",
    "    else:\n",
    "        in_pop = sim.Population(num_neurons, sim.SpikeSourceArray,\n",
    "                                {'spike_times': single_patt},\n",
    "                                label='input population')\n",
    "\n",
    "    return in_pop, dmy_pops, dmy_prjs\n",
    "\n",
    "def plot_sim_spikes(spikes, pops):\n",
    "    sizes = [pops[k].size for k in pops]\n",
    "    max_size = np.max(sizes)\n",
    "    fig = plt.figure(figsize=(10, 9))\n",
    "    f = 1\n",
    "    for i in spikes:\n",
    "        ax = plt.subplot(2, 1, f)\n",
    "        f += 1\n",
    "        spk_vis.plot_output_spikes(spikes[i], plotter=ax)\n",
    "        ax.set_title(i)\n",
    "        ax.set_ylim([-1, max_size])\n",
    "        ax.set_xlim([-1, run_time + 1 ])\n",
    "    plt.show()\n",
    "    \n",
    "def plot_weight_diff(start_w, new_w, a_plus, a_minus, w2s):\n",
    "    s_w_r = start_w.reshape(new_w.shape)\n",
    "    dw = new_w - s_w_r\n",
    "    max_dw = max(np.abs(a_plus), np.abs(a_minus))\n",
    "    fig = plt.figure()\n",
    "    ax = plt.subplot(1, 3, 1)\n",
    "    spk_vis.my_imshow(ax, s_w_r, vmin=0, vmax=w2s)\n",
    "    ax = plt.subplot(1, 3, 2)\n",
    "    spk_vis.my_imshow(ax, new_w, vmin=0, vmax=w2s)\n",
    "    ax = plt.subplot(1, 3, 3)\n",
    "    spk_vis.my_imshow(ax, dw, vmin=-max_dw, vmax=max_dw)\n",
    "    plt.show()"
   ]
  },
  {
   "cell_type": "code",
   "execution_count": null,
   "metadata": {
    "collapsed": false
   },
   "outputs": [],
   "source": []
  },
  {
   "cell_type": "code",
   "execution_count": null,
   "metadata": {
    "collapsed": false
   },
   "outputs": [],
   "source": []
  },
  {
   "cell_type": "code",
   "execution_count": 9,
   "metadata": {
    "collapsed": false,
    "scrolled": false
   },
   "outputs": [
    {
     "name": "stderr",
     "output_type": "stream",
     "text": [
      "Generating a virtual machine\n",
      "|0                           50%                         100%|\n",
      " ============================================================\n",
      "Allocating virtual identifiers\n",
      "|0                           50%                         100%|\n",
      " ============================================================\n",
      "Partitioning graph vertices\n",
      "|0                           50%                         100%|\n",
      " ============================================================\n",
      "Partitioning graph edges\n",
      "|0                           50%                         100%|\n",
      " ============================================================"
     ]
    },
    {
     "name": "stdout",
     "output_type": "stream",
     "text": [
      "\tpopulations\n"
     ]
    },
    {
     "name": "stderr",
     "output_type": "stream",
     "text": [
      "\n"
     ]
    },
    {
     "ename": "KeyboardInterrupt",
     "evalue": "",
     "output_type": "error",
     "traceback": [
      "\u001b[1;31m---------------------------------------------------------------------------\u001b[0m",
      "\u001b[1;31mKeyboardInterrupt\u001b[0m                         Traceback (most recent call last)",
      "\u001b[1;32m<ipython-input-9-7d2ee21cdcf3>\u001b[0m in \u001b[0;36m<module>\u001b[1;34m()\u001b[0m\n\u001b[0;32m     45\u001b[0m \u001b[0mpops\u001b[0m\u001b[1;33m[\u001b[0m\u001b[1;34m'inh'\u001b[0m\u001b[1;33m]\u001b[0m\u001b[1;33m.\u001b[0m\u001b[0mrecord_v\u001b[0m\u001b[1;33m(\u001b[0m\u001b[1;33m)\u001b[0m\u001b[1;33m\u001b[0m\u001b[0m\n\u001b[0;32m     46\u001b[0m \u001b[0mrun_time\u001b[0m \u001b[1;33m=\u001b[0m \u001b[1;36m100\u001b[0m \u001b[1;31m#ms\u001b[0m\u001b[1;33m\u001b[0m\u001b[0m\n\u001b[1;32m---> 47\u001b[1;33m \u001b[0msim\u001b[0m\u001b[1;33m.\u001b[0m\u001b[0mrun\u001b[0m\u001b[1;33m(\u001b[0m\u001b[0mrun_time\u001b[0m\u001b[1;33m)\u001b[0m\u001b[1;33m\u001b[0m\u001b[0m\n\u001b[0m\u001b[0;32m     48\u001b[0m \u001b[0mspikes\u001b[0m \u001b[1;33m=\u001b[0m \u001b[1;33m{\u001b[0m\u001b[1;33m}\u001b[0m\u001b[1;33m\u001b[0m\u001b[0m\n\u001b[0;32m     49\u001b[0m \u001b[0mvolts\u001b[0m  \u001b[1;33m=\u001b[0m \u001b[1;33m{\u001b[0m\u001b[1;33m}\u001b[0m\u001b[1;33m\u001b[0m\u001b[0m\n",
      "\u001b[1;32m/opt/Copy/Doctorado_SpiNNaker/SpiNNaker/master/sPyNNaker/spynnaker/pyNN/__init__.pyc\u001b[0m in \u001b[0;36mrun\u001b[1;34m(run_time)\u001b[0m\n\u001b[0;32m    177\u001b[0m     \"\"\"\n\u001b[0;32m    178\u001b[0m     \u001b[1;32mglobal\u001b[0m \u001b[0m_spinnaker\u001b[0m\u001b[1;33m\u001b[0m\u001b[0m\n\u001b[1;32m--> 179\u001b[1;33m     \u001b[0m_spinnaker\u001b[0m\u001b[1;33m.\u001b[0m\u001b[0mrun\u001b[0m\u001b[1;33m(\u001b[0m\u001b[0mrun_time\u001b[0m\u001b[1;33m)\u001b[0m\u001b[1;33m\u001b[0m\u001b[0m\n\u001b[0m\u001b[0;32m    180\u001b[0m     \u001b[1;32mreturn\u001b[0m \u001b[0mNone\u001b[0m\u001b[1;33m\u001b[0m\u001b[0m\n\u001b[0;32m    181\u001b[0m \u001b[1;33m\u001b[0m\u001b[0m\n",
      "\u001b[1;32m/opt/Copy/Doctorado_SpiNNaker/SpiNNaker/master/sPyNNaker/spynnaker/pyNN/spinnaker.pyc\u001b[0m in \u001b[0;36mrun\u001b[1;34m(self, run_time)\u001b[0m\n\u001b[0;32m    366\u001b[0m         \u001b[1;31m# extra post run algorithms\u001b[0m\u001b[1;33m\u001b[0m\u001b[1;33m\u001b[0m\u001b[0m\n\u001b[0;32m    367\u001b[0m         \u001b[0mself\u001b[0m\u001b[1;33m.\u001b[0m\u001b[0m_dsg_algorithm\u001b[0m \u001b[1;33m=\u001b[0m \u001b[1;34m\"SpynnakerDataSpecificationWriter\"\u001b[0m\u001b[1;33m\u001b[0m\u001b[0m\n\u001b[1;32m--> 368\u001b[1;33m         \u001b[0mSpinnakerMainInterface\u001b[0m\u001b[1;33m.\u001b[0m\u001b[0mrun\u001b[0m\u001b[1;33m(\u001b[0m\u001b[0mself\u001b[0m\u001b[1;33m,\u001b[0m \u001b[0mrun_time\u001b[0m\u001b[1;33m)\u001b[0m\u001b[1;33m\u001b[0m\u001b[0m\n\u001b[0m",
      "\u001b[1;32m/opt/Copy/Doctorado_SpiNNaker/SpiNNaker/master/SpiNNFrontEndCommon/spinn_front_end_common/interface/spinnaker_main_interface.pyc\u001b[0m in \u001b[0;36mrun\u001b[1;34m(self, run_time)\u001b[0m\n\u001b[0;32m    525\u001b[0m \u001b[1;33m\u001b[0m\u001b[0m\n\u001b[0;32m    526\u001b[0m             \u001b[1;32mif\u001b[0m \u001b[0mself\u001b[0m\u001b[1;33m.\u001b[0m\u001b[0m_machine\u001b[0m \u001b[1;32mis\u001b[0m \u001b[0mNone\u001b[0m\u001b[1;33m:\u001b[0m\u001b[1;33m\u001b[0m\u001b[0m\n\u001b[1;32m--> 527\u001b[1;33m                 \u001b[0mself\u001b[0m\u001b[1;33m.\u001b[0m\u001b[0m_get_machine\u001b[0m\u001b[1;33m(\u001b[0m\u001b[0mtotal_run_time\u001b[0m\u001b[1;33m,\u001b[0m \u001b[0mn_machine_time_steps\u001b[0m\u001b[1;33m)\u001b[0m\u001b[1;33m\u001b[0m\u001b[0m\n\u001b[0m\u001b[0;32m    528\u001b[0m             \u001b[0mself\u001b[0m\u001b[1;33m.\u001b[0m\u001b[0m_do_mapping\u001b[0m\u001b[1;33m(\u001b[0m\u001b[0mrun_time\u001b[0m\u001b[1;33m,\u001b[0m \u001b[0mn_machine_time_steps\u001b[0m\u001b[1;33m,\u001b[0m \u001b[0mtotal_run_time\u001b[0m\u001b[1;33m)\u001b[0m\u001b[1;33m\u001b[0m\u001b[0m\n\u001b[0;32m    529\u001b[0m \u001b[1;33m\u001b[0m\u001b[0m\n",
      "\u001b[1;32m/opt/Copy/Doctorado_SpiNNaker/SpiNNaker/master/SpiNNFrontEndCommon/spinn_front_end_common/interface/spinnaker_main_interface.pyc\u001b[0m in \u001b[0;36m_get_machine\u001b[1;34m(self, total_run_time, n_machine_time_steps)\u001b[0m\n\u001b[0;32m    904\u001b[0m \u001b[1;33m\u001b[0m\u001b[0m\n\u001b[0;32m    905\u001b[0m             executor = self._run_machine_algorithms(\n\u001b[1;32m--> 906\u001b[1;33m                 inputs, algorithms, outputs)\n\u001b[0m\u001b[0;32m    907\u001b[0m \u001b[1;33m\u001b[0m\u001b[0m\n\u001b[0;32m    908\u001b[0m             \u001b[0mself\u001b[0m\u001b[1;33m.\u001b[0m\u001b[0m_machine_outputs\u001b[0m \u001b[1;33m=\u001b[0m \u001b[0mexecutor\u001b[0m\u001b[1;33m.\u001b[0m\u001b[0mget_items\u001b[0m\u001b[1;33m(\u001b[0m\u001b[1;33m)\u001b[0m\u001b[1;33m\u001b[0m\u001b[0m\n",
      "\u001b[1;32m/opt/Copy/Doctorado_SpiNNaker/SpiNNaker/master/SpiNNFrontEndCommon/spinn_front_end_common/interface/spinnaker_main_interface.pyc\u001b[0m in \u001b[0;36m_run_machine_algorithms\u001b[1;34m(self, inputs, algorithms, outputs, optional_algorithms)\u001b[0m\n\u001b[0;32m    708\u001b[0m \u001b[1;33m\u001b[0m\u001b[0m\n\u001b[0;32m    709\u001b[0m         \u001b[1;32mtry\u001b[0m\u001b[1;33m:\u001b[0m\u001b[1;33m\u001b[0m\u001b[0m\n\u001b[1;32m--> 710\u001b[1;33m             \u001b[0mexecutor\u001b[0m\u001b[1;33m.\u001b[0m\u001b[0mexecute_mapping\u001b[0m\u001b[1;33m(\u001b[0m\u001b[1;33m)\u001b[0m\u001b[1;33m\u001b[0m\u001b[0m\n\u001b[0m\u001b[0;32m    711\u001b[0m             \u001b[0mself\u001b[0m\u001b[1;33m.\u001b[0m\u001b[0m_pacman_provenance\u001b[0m\u001b[1;33m.\u001b[0m\u001b[0mextract_provenance\u001b[0m\u001b[1;33m(\u001b[0m\u001b[0mexecutor\u001b[0m\u001b[1;33m)\u001b[0m\u001b[1;33m\u001b[0m\u001b[0m\n\u001b[0;32m    712\u001b[0m             \u001b[1;32mreturn\u001b[0m \u001b[0mexecutor\u001b[0m\u001b[1;33m\u001b[0m\u001b[0m\n",
      "\u001b[1;32m/opt/Copy/Doctorado_SpiNNaker/SpiNNaker/master/PACMAN/pacman/executor/pacman_algorithm_executor.pyc\u001b[0m in \u001b[0;36mexecute_mapping\u001b[1;34m(self)\u001b[0m\n\u001b[0;32m    443\u001b[0m \u001b[1;33m\u001b[0m\u001b[0m\n\u001b[0;32m    444\u001b[0m                 \u001b[1;31m# Execute the algorithm\u001b[0m\u001b[1;33m\u001b[0m\u001b[1;33m\u001b[0m\u001b[0m\n\u001b[1;32m--> 445\u001b[1;33m                 \u001b[0mresults\u001b[0m \u001b[1;33m=\u001b[0m \u001b[0malgorithm\u001b[0m\u001b[1;33m.\u001b[0m\u001b[0mcall\u001b[0m\u001b[1;33m(\u001b[0m\u001b[0mself\u001b[0m\u001b[1;33m.\u001b[0m\u001b[0m_internal_type_mapping\u001b[0m\u001b[1;33m)\u001b[0m\u001b[1;33m\u001b[0m\u001b[0m\n\u001b[0m\u001b[0;32m    446\u001b[0m \u001b[1;33m\u001b[0m\u001b[0m\n\u001b[0;32m    447\u001b[0m                 \u001b[1;31m# handle_prov_data\u001b[0m\u001b[1;33m\u001b[0m\u001b[1;33m\u001b[0m\u001b[0m\n",
      "\u001b[1;32m/opt/Copy/Doctorado_SpiNNaker/SpiNNaker/master/PACMAN/pacman/executor/algorithm_classes/abstract_python_algorithm.pyc\u001b[0m in \u001b[0;36mcall\u001b[1;34m(self, inputs)\u001b[0m\n\u001b[0;32m     42\u001b[0m \u001b[1;33m\u001b[0m\u001b[0m\n\u001b[0;32m     43\u001b[0m         \u001b[1;31m# Run the algorithm and get the results\u001b[0m\u001b[1;33m\u001b[0m\u001b[1;33m\u001b[0m\u001b[0m\n\u001b[1;32m---> 44\u001b[1;33m         \u001b[0mresults\u001b[0m \u001b[1;33m=\u001b[0m \u001b[0mself\u001b[0m\u001b[1;33m.\u001b[0m\u001b[0mcall_python\u001b[0m\u001b[1;33m(\u001b[0m\u001b[0mmethod_inputs\u001b[0m\u001b[1;33m)\u001b[0m\u001b[1;33m\u001b[0m\u001b[0m\n\u001b[0m\u001b[0;32m     45\u001b[0m \u001b[1;33m\u001b[0m\u001b[0m\n\u001b[0;32m     46\u001b[0m         \u001b[1;32mif\u001b[0m \u001b[0mresults\u001b[0m \u001b[1;32mis\u001b[0m \u001b[1;32mnot\u001b[0m \u001b[0mNone\u001b[0m \u001b[1;32mand\u001b[0m \u001b[1;32mnot\u001b[0m \u001b[0misinstance\u001b[0m\u001b[1;33m(\u001b[0m\u001b[0mresults\u001b[0m\u001b[1;33m,\u001b[0m \u001b[0mtuple\u001b[0m\u001b[1;33m)\u001b[0m\u001b[1;33m:\u001b[0m\u001b[1;33m\u001b[0m\u001b[0m\n",
      "\u001b[1;32m/opt/Copy/Doctorado_SpiNNaker/SpiNNaker/master/PACMAN/pacman/executor/algorithm_classes/python_class_algorithm.pyc\u001b[0m in \u001b[0;36mcall_python\u001b[1;34m(self, inputs)\u001b[0m\n\u001b[0;32m     55\u001b[0m         \u001b[1;32mif\u001b[0m \u001b[0mself\u001b[0m\u001b[1;33m.\u001b[0m\u001b[0m_python_method\u001b[0m \u001b[1;32mis\u001b[0m \u001b[1;32mnot\u001b[0m \u001b[0mNone\u001b[0m\u001b[1;33m:\u001b[0m\u001b[1;33m\u001b[0m\u001b[0m\n\u001b[0;32m     56\u001b[0m             \u001b[0mmethod\u001b[0m \u001b[1;33m=\u001b[0m \u001b[0mgetattr\u001b[0m\u001b[1;33m(\u001b[0m\u001b[0minstance\u001b[0m\u001b[1;33m,\u001b[0m \u001b[0mself\u001b[0m\u001b[1;33m.\u001b[0m\u001b[0m_python_method\u001b[0m\u001b[1;33m)\u001b[0m\u001b[1;33m\u001b[0m\u001b[0m\n\u001b[1;32m---> 57\u001b[1;33m         \u001b[1;32mreturn\u001b[0m \u001b[0mmethod\u001b[0m\u001b[1;33m(\u001b[0m\u001b[1;33m**\u001b[0m\u001b[0minputs\u001b[0m\u001b[1;33m)\u001b[0m\u001b[1;33m\u001b[0m\u001b[0m\n\u001b[0m\u001b[0;32m     58\u001b[0m \u001b[1;33m\u001b[0m\u001b[0m\n\u001b[0;32m     59\u001b[0m     \u001b[1;32mdef\u001b[0m \u001b[0m__repr__\u001b[0m\u001b[1;33m(\u001b[0m\u001b[0mself\u001b[0m\u001b[1;33m)\u001b[0m\u001b[1;33m:\u001b[0m\u001b[1;33m\u001b[0m\u001b[0m\n",
      "\u001b[1;32m/opt/Copy/Doctorado_SpiNNaker/SpiNNaker/master/SpiNNFrontEndCommon/spinn_front_end_common/interface/interface_functions/front_end_common_machine_generator.pyc\u001b[0m in \u001b[0;36m__call__\u001b[1;34m(self, hostname, bmp_details, downed_chips, downed_cores, board_version, auto_detect_bmp, enable_reinjection, scamp_connection_data, boot_port_num, reset_machine_on_start_up, max_sdram_size, max_core_id)\u001b[0m\n\u001b[0;32m     76\u001b[0m                 \"file (spynnaker.cfg or pacman.cfg)\")\n\u001b[0;32m     77\u001b[0m         txrx.ensure_board_is_ready(\n\u001b[1;32m---> 78\u001b[1;33m             enable_reinjector=enable_reinjection)\n\u001b[0m\u001b[0;32m     79\u001b[0m         \u001b[0mtxrx\u001b[0m\u001b[1;33m.\u001b[0m\u001b[0mdiscover_scamp_connections\u001b[0m\u001b[1;33m(\u001b[0m\u001b[1;33m)\u001b[0m\u001b[1;33m\u001b[0m\u001b[0m\n\u001b[0;32m     80\u001b[0m         \u001b[0mmachine\u001b[0m \u001b[1;33m=\u001b[0m \u001b[0mtxrx\u001b[0m\u001b[1;33m.\u001b[0m\u001b[0mget_machine_details\u001b[0m\u001b[1;33m(\u001b[0m\u001b[1;33m)\u001b[0m\u001b[1;33m\u001b[0m\u001b[0m\n",
      "\u001b[1;32m/opt/Copy/Doctorado_SpiNNaker/SpiNNaker/master/SpiNNMan/spinnman/transceiver.pyc\u001b[0m in \u001b[0;36mensure_board_is_ready\u001b[1;34m(self, number_of_boards, width, height, n_retries, enable_reinjector)\u001b[0m\n\u001b[0;32m   1006\u001b[0m         \u001b[1;31m# If reinjection is enabled, load the reinjector\u001b[0m\u001b[1;33m\u001b[0m\u001b[1;33m\u001b[0m\u001b[0m\n\u001b[0;32m   1007\u001b[0m         \u001b[1;32mif\u001b[0m \u001b[0menable_reinjector\u001b[0m\u001b[1;33m:\u001b[0m\u001b[1;33m\u001b[0m\u001b[0m\n\u001b[1;32m-> 1008\u001b[1;33m             \u001b[0mself\u001b[0m\u001b[1;33m.\u001b[0m\u001b[0menable_reinjection\u001b[0m\u001b[1;33m(\u001b[0m\u001b[1;33m)\u001b[0m\u001b[1;33m\u001b[0m\u001b[0m\n\u001b[0m\u001b[0;32m   1009\u001b[0m \u001b[1;33m\u001b[0m\u001b[0m\n\u001b[0;32m   1010\u001b[0m         \u001b[1;32mreturn\u001b[0m \u001b[0mversion_info\u001b[0m\u001b[1;33m\u001b[0m\u001b[0m\n",
      "\u001b[1;32m/opt/Copy/Doctorado_SpiNNaker/SpiNNaker/master/SpiNNMan/spinnman/transceiver.pyc\u001b[0m in \u001b[0;36menable_reinjection\u001b[1;34m(self, multicast, point_to_point, nearest_neighbour, fixed_route)\u001b[0m\n\u001b[0;32m   2654\u001b[0m             \u001b[1;32mif\u001b[0m \u001b[0mvalue\u001b[0m\u001b[1;33m:\u001b[0m\u001b[1;33m\u001b[0m\u001b[0m\n\u001b[0;32m   2655\u001b[0m                 \u001b[0mpacket_types\u001b[0m\u001b[1;33m.\u001b[0m\u001b[0mappend\u001b[0m\u001b[1;33m(\u001b[0m\u001b[0mflag\u001b[0m\u001b[1;33m)\u001b[0m\u001b[1;33m\u001b[0m\u001b[0m\n\u001b[1;32m-> 2656\u001b[1;33m         \u001b[0mprocess\u001b[0m\u001b[1;33m.\u001b[0m\u001b[0mset_packet_types\u001b[0m\u001b[1;33m(\u001b[0m\u001b[0mpacket_types\u001b[0m\u001b[1;33m,\u001b[0m \u001b[0mself\u001b[0m\u001b[1;33m.\u001b[0m\u001b[0m_reinjector_cores\u001b[0m\u001b[1;33m)\u001b[0m\u001b[1;33m\u001b[0m\u001b[0m\n\u001b[0m\u001b[0;32m   2657\u001b[0m \u001b[1;33m\u001b[0m\u001b[0m\n\u001b[0;32m   2658\u001b[0m     def set_reinjection_router_timeout(self, timeout_mantissa,\n",
      "\u001b[1;32m/opt/Copy/Doctorado_SpiNNaker/SpiNNaker/master/SpiNNMan/spinnman/processes/set_dpri_packet_types_process.pyc\u001b[0m in \u001b[0;36mset_packet_types\u001b[1;34m(self, packet_types, core_subsets)\u001b[0m\n\u001b[0;32m     14\u001b[0m             \u001b[1;32mfor\u001b[0m \u001b[0mprocessor_id\u001b[0m \u001b[1;32min\u001b[0m \u001b[0mcore_subset\u001b[0m\u001b[1;33m.\u001b[0m\u001b[0mprocessor_ids\u001b[0m\u001b[1;33m:\u001b[0m\u001b[1;33m\u001b[0m\u001b[0m\n\u001b[0;32m     15\u001b[0m                 self._send_request(SCPDPRISetReinjectionPacketTypesRequest(\n\u001b[1;32m---> 16\u001b[1;33m                     core_subset.x, core_subset.y, processor_id, packet_types))\n\u001b[0m\u001b[0;32m     17\u001b[0m         \u001b[0mself\u001b[0m\u001b[1;33m.\u001b[0m\u001b[0m_finish\u001b[0m\u001b[1;33m(\u001b[0m\u001b[1;33m)\u001b[0m\u001b[1;33m\u001b[0m\u001b[0m\n\u001b[0;32m     18\u001b[0m         \u001b[0mself\u001b[0m\u001b[1;33m.\u001b[0m\u001b[0mcheck_for_error\u001b[0m\u001b[1;33m(\u001b[0m\u001b[1;33m)\u001b[0m\u001b[1;33m\u001b[0m\u001b[0m\n",
      "\u001b[1;32m/opt/Copy/Doctorado_SpiNNaker/SpiNNaker/master/SpiNNMan/spinnman/processes/abstract_multi_connection_process.pyc\u001b[0m in \u001b[0;36m_send_request\u001b[1;34m(self, request, callback, error_callback)\u001b[0m\n\u001b[0;32m     30\u001b[0m             \u001b[0mself\u001b[0m\u001b[1;33m.\u001b[0m\u001b[0m_scp_request_pipe_lines\u001b[0m\u001b[1;33m[\u001b[0m\u001b[0mconnection\u001b[0m\u001b[1;33m]\u001b[0m \u001b[1;33m=\u001b[0m \u001b[0mscp_request_set\u001b[0m\u001b[1;33m\u001b[0m\u001b[0m\n\u001b[0;32m     31\u001b[0m         self._scp_request_pipe_lines[connection].send_request(\n\u001b[1;32m---> 32\u001b[1;33m             request, callback, error_callback)\n\u001b[0m\u001b[0;32m     33\u001b[0m \u001b[1;33m\u001b[0m\u001b[0m\n\u001b[0;32m     34\u001b[0m     \u001b[1;32mdef\u001b[0m \u001b[0m_finish\u001b[0m\u001b[1;33m(\u001b[0m\u001b[0mself\u001b[0m\u001b[1;33m)\u001b[0m\u001b[1;33m:\u001b[0m\u001b[1;33m\u001b[0m\u001b[0m\n",
      "\u001b[1;32m/opt/Copy/Doctorado_SpiNNaker/SpiNNaker/master/SpiNNMan/spinnman/connections/scp_request_pipeline.pyc\u001b[0m in \u001b[0;36msend_request\u001b[1;34m(self, request, callback, error_callback)\u001b[0m\n\u001b[0;32m    124\u001b[0m         while (self._n_channels is not None and\n\u001b[0;32m    125\u001b[0m                 self._in_progress >= self._n_channels):\n\u001b[1;32m--> 126\u001b[1;33m             \u001b[0mself\u001b[0m\u001b[1;33m.\u001b[0m\u001b[0m_do_retrieve\u001b[0m\u001b[1;33m(\u001b[0m\u001b[0mself\u001b[0m\u001b[1;33m.\u001b[0m\u001b[0m_intermediate_channel_waits\u001b[0m\u001b[1;33m,\u001b[0m \u001b[1;36m0.1\u001b[0m\u001b[1;33m)\u001b[0m\u001b[1;33m\u001b[0m\u001b[0m\n\u001b[0m\u001b[0;32m    127\u001b[0m \u001b[1;33m\u001b[0m\u001b[0m\n\u001b[0;32m    128\u001b[0m         \u001b[1;31m# Send the request, keeping track of how many are sent\u001b[0m\u001b[1;33m\u001b[0m\u001b[1;33m\u001b[0m\u001b[0m\n",
      "\u001b[1;32m/opt/Copy/Doctorado_SpiNNaker/SpiNNaker/master/SpiNNMan/spinnman/connections/scp_request_pipeline.pyc\u001b[0m in \u001b[0;36m_do_retrieve\u001b[1;34m(self, n_packets, timeout)\u001b[0m\n\u001b[0;32m    169\u001b[0m                 \u001b[1;31m# Receive the next response\u001b[0m\u001b[1;33m\u001b[0m\u001b[1;33m\u001b[0m\u001b[0m\n\u001b[0;32m    170\u001b[0m                 \u001b[0mresult\u001b[0m\u001b[1;33m,\u001b[0m \u001b[0mseq\u001b[0m\u001b[1;33m,\u001b[0m \u001b[0mraw_data\u001b[0m\u001b[1;33m,\u001b[0m \u001b[0moffset\u001b[0m \u001b[1;33m=\u001b[0m\u001b[0;31m \u001b[0m\u001b[0;31m\\\u001b[0m\u001b[1;33m\u001b[0m\u001b[0m\n\u001b[1;32m--> 171\u001b[1;33m                     \u001b[0mself\u001b[0m\u001b[1;33m.\u001b[0m\u001b[0m_connection\u001b[0m\u001b[1;33m.\u001b[0m\u001b[0mreceive_scp_response\u001b[0m\u001b[1;33m(\u001b[0m\u001b[0mtimeout\u001b[0m\u001b[1;33m)\u001b[0m\u001b[1;33m\u001b[0m\u001b[0m\n\u001b[0m\u001b[0;32m    172\u001b[0m \u001b[1;33m\u001b[0m\u001b[0m\n\u001b[0;32m    173\u001b[0m                 \u001b[1;31m# Only process responses which have matching requests\u001b[0m\u001b[1;33m\u001b[0m\u001b[1;33m\u001b[0m\u001b[0m\n",
      "\u001b[1;32m/opt/Copy/Doctorado_SpiNNaker/SpiNNaker/master/SpiNNMan/spinnman/connections/udp_packet_connections/udp_scamp_connection.pyc\u001b[0m in \u001b[0;36mreceive_scp_response\u001b[1;34m(self, timeout)\u001b[0m\n\u001b[0;32m     68\u001b[0m \u001b[1;33m\u001b[0m\u001b[0m\n\u001b[0;32m     69\u001b[0m     \u001b[1;32mdef\u001b[0m \u001b[0mreceive_scp_response\u001b[0m\u001b[1;33m(\u001b[0m\u001b[0mself\u001b[0m\u001b[1;33m,\u001b[0m \u001b[0mtimeout\u001b[0m\u001b[1;33m=\u001b[0m\u001b[1;36m1.0\u001b[0m\u001b[1;33m)\u001b[0m\u001b[1;33m:\u001b[0m\u001b[1;33m\u001b[0m\u001b[0m\n\u001b[1;32m---> 70\u001b[1;33m         \u001b[0mdata\u001b[0m \u001b[1;33m=\u001b[0m \u001b[0mself\u001b[0m\u001b[1;33m.\u001b[0m\u001b[0mreceive\u001b[0m\u001b[1;33m(\u001b[0m\u001b[0mtimeout\u001b[0m\u001b[1;33m)\u001b[0m\u001b[1;33m\u001b[0m\u001b[0m\n\u001b[0m\u001b[0;32m     71\u001b[0m         \u001b[0mresult\u001b[0m\u001b[1;33m,\u001b[0m \u001b[0msequence\u001b[0m \u001b[1;33m=\u001b[0m \u001b[0mstruct\u001b[0m\u001b[1;33m.\u001b[0m\u001b[0munpack_from\u001b[0m\u001b[1;33m(\u001b[0m\u001b[1;34m\"<2H\"\u001b[0m\u001b[1;33m,\u001b[0m \u001b[0mdata\u001b[0m\u001b[1;33m,\u001b[0m \u001b[1;36m10\u001b[0m\u001b[1;33m)\u001b[0m\u001b[1;33m\u001b[0m\u001b[0m\n\u001b[0;32m     72\u001b[0m         \u001b[1;32mreturn\u001b[0m \u001b[0mSCPResult\u001b[0m\u001b[1;33m(\u001b[0m\u001b[0mresult\u001b[0m\u001b[1;33m)\u001b[0m\u001b[1;33m,\u001b[0m \u001b[0msequence\u001b[0m\u001b[1;33m,\u001b[0m \u001b[0mdata\u001b[0m\u001b[1;33m,\u001b[0m \u001b[1;36m2\u001b[0m\u001b[1;33m\u001b[0m\u001b[0m\n",
      "\u001b[1;32m/opt/Copy/Doctorado_SpiNNaker/SpiNNaker/master/SpiNNMan/spinnman/connections/udp_packet_connections/udp_connection.pyc\u001b[0m in \u001b[0;36mreceive\u001b[1;34m(self, timeout)\u001b[0m\n\u001b[0;32m    195\u001b[0m         \u001b[1;32mtry\u001b[0m\u001b[1;33m:\u001b[0m\u001b[1;33m\u001b[0m\u001b[0m\n\u001b[0;32m    196\u001b[0m             \u001b[0mself\u001b[0m\u001b[1;33m.\u001b[0m\u001b[0m_socket\u001b[0m\u001b[1;33m.\u001b[0m\u001b[0msettimeout\u001b[0m\u001b[1;33m(\u001b[0m\u001b[0mtimeout\u001b[0m\u001b[1;33m)\u001b[0m\u001b[1;33m\u001b[0m\u001b[0m\n\u001b[1;32m--> 197\u001b[1;33m             \u001b[1;32mreturn\u001b[0m \u001b[0mself\u001b[0m\u001b[1;33m.\u001b[0m\u001b[0m_socket\u001b[0m\u001b[1;33m.\u001b[0m\u001b[0mrecv\u001b[0m\u001b[1;33m(\u001b[0m\u001b[1;36m300\u001b[0m\u001b[1;33m)\u001b[0m\u001b[1;33m\u001b[0m\u001b[0m\n\u001b[0m\u001b[0;32m    198\u001b[0m         \u001b[1;32mexcept\u001b[0m \u001b[0msocket\u001b[0m\u001b[1;33m.\u001b[0m\u001b[0mtimeout\u001b[0m\u001b[1;33m:\u001b[0m\u001b[1;33m\u001b[0m\u001b[0m\n\u001b[0;32m    199\u001b[0m             \u001b[1;32mraise\u001b[0m \u001b[0mSpinnmanTimeoutException\u001b[0m\u001b[1;33m(\u001b[0m\u001b[1;34m\"receive\"\u001b[0m\u001b[1;33m,\u001b[0m \u001b[0mtimeout\u001b[0m\u001b[1;33m)\u001b[0m\u001b[1;33m\u001b[0m\u001b[0m\n",
      "\u001b[1;32m/opt/Copy/Doctorado_SpiNNaker/SpiNNaker/master/SpiNNFrontEndCommon/spinn_front_end_common/interface/spinnaker_main_interface.pyc\u001b[0m in \u001b[0;36msignal_handler\u001b[1;34m(self, signal, frame)\u001b[0m\n\u001b[0;32m    446\u001b[0m         \u001b[1;31m# If we are to raise the keyboard interrupt, do so\u001b[0m\u001b[1;33m\u001b[0m\u001b[1;33m\u001b[0m\u001b[0m\n\u001b[0;32m    447\u001b[0m         \u001b[1;32mif\u001b[0m \u001b[0mself\u001b[0m\u001b[1;33m.\u001b[0m\u001b[0m_raise_keyboard_interrupt\u001b[0m\u001b[1;33m:\u001b[0m\u001b[1;33m\u001b[0m\u001b[0m\n\u001b[1;32m--> 448\u001b[1;33m             \u001b[1;32mraise\u001b[0m \u001b[0mKeyboardInterrupt\u001b[0m\u001b[1;33m\u001b[0m\u001b[0m\n\u001b[0m\u001b[0;32m    449\u001b[0m \u001b[1;33m\u001b[0m\u001b[0m\n\u001b[0;32m    450\u001b[0m         \u001b[0mlogger\u001b[0m\u001b[1;33m.\u001b[0m\u001b[0merror\u001b[0m\u001b[1;33m(\u001b[0m\u001b[1;34m\"User has cancelled simulation\"\u001b[0m\u001b[1;33m)\u001b[0m\u001b[1;33m\u001b[0m\u001b[0m\n",
      "\u001b[1;31mKeyboardInterrupt\u001b[0m: "
     ]
    }
   ],
   "source": [
    "cell = sim.IF_curr_exp\n",
    "i_offset = 10. # mA ???\n",
    "inh_params = { 'cm': 0.2,  # nF\n",
    "               'i_offset': i_offset,\n",
    "               'tau_m': 10.0,\n",
    "               'tau_refrac': 5.0,\n",
    "               'tau_syn_E': 2.5,\n",
    "               'tau_syn_I': 2.,\n",
    "               'v_reset': -70.0,\n",
    "               'v_rest': -65.0,\n",
    "               'v_thresh': -55.4\n",
    "             }\n",
    "exc_params = { 'cm': 0.35,  # nF\n",
    "               'i_offset': i_offset,\n",
    "               'tau_m': 4.0,\n",
    "               'tau_refrac': 1.0,\n",
    "               'tau_syn_E': 1.,\n",
    "               'tau_syn_I': 10.,\n",
    "               'v_reset': -70.6,\n",
    "               'v_rest': -65.0,\n",
    "               'v_thresh': -50.\n",
    "             }\n",
    "# inh_params = { 'cm': 0.2,  # nF\n",
    "#                'i_offset': i_offset,\n",
    "#                'tau_m': 10.0,\n",
    "#                'tau_refrac': 1.0,\n",
    "#                'tau_syn_E': 2.5,\n",
    "#                'tau_syn_I': 7.5,\n",
    "#                'v_reset': -70.0,\n",
    "#                'v_rest': -65.0,\n",
    "#                'v_thresh': -55.4\n",
    "#              }\n",
    "\n",
    "if sim.__name__ == 'pyNN.spiNNaker':\n",
    "    sim.set_number_of_neurons_per_core(sim.IF_curr_exp, 100)\n",
    "\n",
    "sim.setup(timestep=1., min_delay=1.)\n",
    "print(\"\\tpopulations\")\n",
    "pops = {}\n",
    "pops['exc'] = sim.Population(1, cell, exc_params, label='excitatory')\n",
    "pops['exc'].record()\n",
    "pops['exc'].record_v()\n",
    "pops['inh'] = sim.Population(1, cell, inh_params, label='inhibitory')\n",
    "pops['inh'].record()\n",
    "pops['inh'].record_v()\n",
    "run_time = 100 #ms\n",
    "sim.run(run_time)\n",
    "spikes = {}\n",
    "volts  = {}\n",
    "for k in pops:\n",
    "    spikes[k] = pops[k].getSpikes(compatible_output=True)\n",
    "    volts[k]  = pops[k].get_v(compatible_output=True)\n",
    "\n",
    "\n",
    "sim.end()\n",
    "plot_sim_spikes(spikes, pops)\n",
    "\n",
    "for k in volts:\n",
    "    fig = plt.figure(figsize=(10, 4))\n",
    "    ax = plt.subplot( 1, 1, 1)\n",
    "    plt.plot(volts[k][:,1], volts[k][:, 2])\n",
    "    ax.set_title(\"volts %s\"%k)\n",
    "    plt.plot\n",
    "    "
   ]
  },
  {
   "cell_type": "code",
   "execution_count": null,
   "metadata": {
    "collapsed": false
   },
   "outputs": [],
   "source": []
  },
  {
   "cell_type": "code",
   "execution_count": null,
   "metadata": {
    "collapsed": false
   },
   "outputs": [],
   "source": []
  },
  {
   "cell_type": "code",
   "execution_count": null,
   "metadata": {
    "collapsed": false
   },
   "outputs": [],
   "source": []
  }
 ],
 "metadata": {
  "kernelspec": {
   "display_name": "Python 2",
   "language": "python",
   "name": "python2"
  },
  "language_info": {
   "codemirror_mode": {
    "name": "ipython",
    "version": 2
   },
   "file_extension": ".py",
   "mimetype": "text/x-python",
   "name": "python",
   "nbconvert_exporter": "python",
   "pygments_lexer": "ipython2",
   "version": "2.7.5"
  }
 },
 "nbformat": 4,
 "nbformat_minor": 0
}
