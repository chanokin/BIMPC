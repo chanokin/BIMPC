{
 "cells": [
  {
   "cell_type": "code",
   "execution_count": 4,
   "metadata": {
    "collapsed": false
   },
   "outputs": [],
   "source": [
    "%matplotlib inline\n",
    "%reload_ext autoreload\n",
    "%autoreload 2\n",
    "\n",
    "import numpy as np\n",
    "import pylab as plt\n",
    "# import vision.sim_tools.connectors.kernel_connectors as kconn\n",
    "from vision.spike_tools.vis import my_imshow, plot_spikes, \\\n",
    "                                   plot_output_spikes, \\\n",
    "                                   imgs_in_T_from_spike_array\n",
    "# from vision.sim_tools.vis import plot_connector_3d\n",
    "# import vision.sim_tools.kernels.center_surround as csgen\n",
    "# import vision.sim_tools.kernels.gabor as gabgen\n",
    "\n",
    "from mpl_toolkits.mplot3d import axes3d, Axes3D\n",
    "\n",
    "from vision.retina import Retina, dvs_modes, MERGED\n",
    "from vision.spike_tools.pattern import pattern_generator as pat_gen\n",
    "\n",
    "from pyNN import nest as sim\n",
    "\n",
    "\n",
    "def setup_cam_pop(sim, spike_array, img_w, img_h, w2s=1.6):\n",
    "    pop_size = img_w*img_h*2\n",
    "    cell = sim.IF_curr_exp\n",
    "    params = { 'cm': 0.2,  # nF\n",
    "               'i_offset': 0.0,\n",
    "               'tau_m': 10.0,\n",
    "               'tau_refrac': 2.0,\n",
    "               'tau_syn_E': 1.,\n",
    "               'tau_syn_I': 1.,\n",
    "               'v_reset': -70.0,\n",
    "               'v_rest': -65.0,\n",
    "               'v_thresh': -55.4\n",
    "             }\n",
    "    cam_pop = sim.Population(pop_size, cell, params,\n",
    "                             label='camera')\n",
    "    dmy_pops = []\n",
    "    dmy_prjs = []\n",
    "    for i in range(pop_size):\n",
    "        dmy_pops.append(sim.Population(1, sim.SpikeSourceArray, \n",
    "                                       {'spike_times': spike_array[i]},\n",
    "                                       label='pixel (row, col) = (%d, %d)'%\\\n",
    "                                       (i//img_w, i%img_w)))\n",
    "        conn = [(0, i, w2s, 1)]\n",
    "        dmy_prjs.append(sim.Projection(dmy_pops[i], cam_pop,\n",
    "                                       sim.FromListConnector(conn),\n",
    "                                       target='excitatory'))\n",
    "    \n",
    "    return cam_pop, dmy_pops, dmy_prjs\n",
    "\n",
    "\n",
    "\n",
    "def plot_out_spikes(on_spikes, off_spikes, img_w, img_h, \n",
    "                    end_t_ms, ftime_ms, thresh, title):\n",
    "    on_imgs = imgs_in_T_from_spike_array(on_spikes, img_w, img_h, \n",
    "                                         0, end_t_ms, ftime_ms, \n",
    "                                         out_array=True, thresh=thresh)\n",
    "\n",
    "    off_imgs = imgs_in_T_from_spike_array(off_spikes, img_w, img_h, \n",
    "                                          0, end_t_ms, ftime_ms, \n",
    "                                          out_array=True, thresh=thresh)\n",
    "\n",
    "    num_imgs = len(on_imgs)\n",
    "    cols = 5\n",
    "    rows = num_imgs//cols + 1\n",
    "    figw = 2\n",
    "    fig = plt.figure(figsize=(figw*cols, figw*rows))\n",
    "    for i in range(num_imgs):\n",
    "        img = np.zeros((img_w, img_h, 3), dtype=np.uint8)\n",
    "        img[:, :, 1] = off_imgs[i]*4\n",
    "        img[:, :, 0] = on_imgs[i]*4\n",
    "        ax = plt.subplot(rows, cols, i+1)\n",
    "        my_imshow(ax, img, cmap=None)\n",
    "    # plot_spikes(spikes)\n",
    "    plt.suptitle(title)\n",
    "    plt.show()"
   ]
  },
  {
   "cell_type": "code",
   "execution_count": 6,
   "metadata": {
    "collapsed": false
   },
   "outputs": [
    {
     "data": {
      "image/png": "[encoded data removed]",
      "text/plain": [
       "<matplotlib.figure.Figure at 0x7ff4b1e8e250>"
      ]
     },
     "metadata": {},
     "output_type": "display_data"
    }
   ],
   "source": [
    "img_w, img_h = 40, 32\n",
    "num_neurons = img_w*img_h*2\n",
    "fps = 30\n",
    "frames = 32\n",
    "thresh = 25\n",
    "deg = 135\n",
    "dx = 1.\n",
    "'''spikes_pol_MERGED_enc_RATE_\n",
    "   thresh_25_hist_99_\n",
    "   inh_False___\n",
    "   64_frames_at_\n",
    "   30fps_\n",
    "   32x32_res_spikes\n",
    "'''\n",
    "on_time_ms  = int( frames*(1000./fps) )\n",
    "ftime_ms    = int( 1000./fps )\n",
    "off_time_ms = 0\n",
    "start_time  = 10\n",
    "spikes_dir = './moving_bar_spikes_%dx%d'%(img_w, img_h)\n",
    "spikes = pat_gen.img_spikes_from_to(spikes_dir, num_neurons, 0, 1, \n",
    "                                    on_time_ms, off_time_ms,\n",
    "                                    start_time)\n",
    "\n",
    "\n",
    "\n",
    "imgsU = imgs_in_T_from_spike_array(spikes[:img_w*img_h], img_w, img_h, \n",
    "                                   0, on_time_ms, ftime_ms, \n",
    "                                   out_array=False, thresh=25)\n",
    "imgsD = imgs_in_T_from_spike_array(spikes[img_w*img_h:], img_w, img_h, \n",
    "                                   0, on_time_ms, ftime_ms, \n",
    "                                   out_array=False, thresh=25)\n",
    "num_imgs = len(imgsU)\n",
    "cols = 5\n",
    "rows = num_imgs//cols + 1\n",
    "figw = 2\n",
    "fig = plt.figure(figsize=(figw*cols, figw*rows))\n",
    "for i in range(num_imgs):\n",
    "#     out_img = np.zeros((img_w, img_h, 3), dtype=np.uint8)\n",
    "#     out_img[:, :, 1] = imgsU[i]\n",
    "#     out_img[:, :, 0] = imgsD[i]\n",
    "    ax = plt.subplot(rows, cols, i+1)\n",
    "#     my_imshow(ax, out_img, cmap=None)\n",
    "    my_imshow(ax, imgsU[i], cmap=None)\n",
    "# plot_spikes(spikes)\n",
    "\n",
    "plt.show()"
   ]
  },
  {
   "cell_type": "code",
   "execution_count": 4,
   "metadata": {
    "collapsed": false
   },
   "outputs": [
    {
     "name": "stdout",
     "output_type": "stream",
     "text": [
      "Building Retina (16 x 16)\n",
      "\tBuilding kernels...\n",
      "\t\tdone!\n",
      "\tBuilding connectors...\n",
      "\t\tdone!\n",
      "\tBuilding populations...\n",
      "\t\tdone!\n",
      "\tBuilding projections...\n",
      "\t\tdone!\n"
     ]
    }
   ],
   "source": [
    "w2s = 1.7\n",
    "sim.setup(timestep=1., max_delay=12., min_delay=1.)\n",
    "\n",
    "cam, ssa_cam, prj_cam = setup_cam_pop(sim, spikes, \n",
    "                                      img_w, img_h, w2s=w2s)\n",
    "cam.record()\n",
    "cfg = {'record': {'voltages': False, \n",
    "                  'spikes': True,\n",
    "                  'weights': False\n",
    "                 },\n",
    "       'w2s': w2s,\n",
    "      }\n",
    "mode = dvs_modes[MERGED]\n",
    "retina = Retina(sim, cam, img_w, img_h, mode, cfg=cfg)\n",
    "\n",
    "run_time = 2500\n",
    "sim.run(2500)\n",
    "\n",
    "out_spks = {}\n",
    "for k in retina.pops.keys():\n",
    "    out_spks[k] = {}\n",
    "    for p in retina.pops[k].keys():\n",
    "        out_spks[k][p] = {}\n",
    "        if isinstance(retina.pops[k][p], dict):\n",
    "            for t in retina.pops[k][p].keys():\n",
    "                \n",
    "                key = \"%s__%s__%s\"%(k, p, t)\n",
    "                try:\n",
    "                    out_spks[k][p][t] = retina.pops[k][p][t].getSpikes(\\\n",
    "                                                     compatible_output=True)\n",
    "                except:\n",
    "                    print(\"no spikes for population %s\"%(key))\n",
    "#         else:\n",
    "#             out_spks[k][p] = {}\n",
    "#             key = \"%s__%s\"%(k, p)\n",
    "#             try:\n",
    "#                 out_spks[k][p][p] = retina.pops[k][p].getSpikes(\\\n",
    "#                                                      compatible_output=True)\n",
    "#             except:\n",
    "#                 print(\"no spikes for population %s\"%(key))\n",
    "            \n",
    "# out_spks['camera'] = cam.getSpikes(compatible_output=True)\n",
    "sim.end()"
   ]
  },
  {
   "cell_type": "code",
   "execution_count": 6,
   "metadata": {
    "collapsed": false
   },
   "outputs": [
    {
     "data": {
      "image/png": "[encoded data removed]",
      "text/plain": [
       "<matplotlib.figure.Figure at 0x8ca0350>"
      ]
     },
     "metadata": {},
     "output_type": "display_data"
    },
    {
     "data": {
      "image/png": "[encoded data removed]",
      "text/plain": [
       "<matplotlib.figure.Figure at 0x64ad0d0>"
      ]
     },
     "metadata": {},
     "output_type": "display_data"
    },
    {
     "data": {
      "image/png": "[encoded data removed]",
      "text/plain": [
       "<matplotlib.figure.Figure at 0x8c99390>"
      ]
     },
     "metadata": {},
     "output_type": "display_data"
    },
    {
     "data": {
      "image/png": "[encoded data removed]",
      "text/plain": [
       "<matplotlib.figure.Figure at 0x64d2790>"
      ]
     },
     "metadata": {},
     "output_type": "display_data"
    },
    {
     "data": {
      "image/png": "[encoded data removed]",
      "text/plain": [
       "<matplotlib.figure.Figure at 0x76bd210>"
      ]
     },
     "metadata": {},
     "output_type": "display_data"
    },
    {
     "data": {
      "image/png": "[encoded data removed]",
      "text/plain": [
       "<matplotlib.figure.Figure at 0x6ac5bd0>"
      ]
     },
     "metadata": {},
     "output_type": "display_data"
    }
   ],
   "source": [
    "\n",
    "\n",
    "\n",
    "for p in out_spks['on'].keys():\n",
    "    for t in out_spks['on'][p].keys():\n",
    "        if t != 'ganglion':\n",
    "            continue\n",
    "            \n",
    "        fig = plt.figure()#figsize=(12, 8))\n",
    "        plot_output_spikes(out_spks['on'][p][t], color='g')\n",
    "        plot_output_spikes(out_spks['off'][p][t], color='r')\n",
    "        plt.suptitle(\"%s, %s\"%(p, t))\n",
    "#         plt.show()\n",
    "        if p == 'cs':\n",
    "            krn = retina.cs\n",
    "        else:\n",
    "            krn = retina.gab[p]\n",
    "            \n",
    "        fig = plt.figure(figsize=(2,2))\n",
    "        ax = plt.subplot(1,1,1)\n",
    "        my_imshow(ax, krn)\n",
    "        plt.show()\n",
    "#         plot_out_spikes(out_spks['on'][p][t], \n",
    "#                         out_spks['off'][p][t], \n",
    "#                         img_w, img_h, \n",
    "#                         on_time_ms, ftime_ms, thresh=25, \n",
    "#                         title=\"%s, %s\"%(p, t))"
   ]
  },
  {
   "cell_type": "code",
   "execution_count": null,
   "metadata": {
    "collapsed": false
   },
   "outputs": [],
   "source": [
    "fig = plt.figure(figsize=(10, 12))\n",
    "\n",
    "i = 0\n",
    "for p in out_spks['on'].keys():\n",
    "    for t in out_spks['on'][p].keys():\n",
    "        if t != 'ganglion':\n",
    "            continue\n",
    "        if p == 'cs':\n",
    "            krn = retina.cs\n",
    "            continue\n",
    "        else:\n",
    "            krn = retina.gab[p]\n",
    "            \n",
    "        i += 1\n",
    "        ax = plt.subplot(5,2,i)\n",
    "        plot_output_spikes(out_spks['on'][p][t], color='g')\n",
    "        plot_output_spikes(out_spks['off'][p][t], color='r')\n",
    "        \n",
    "        i += 1\n",
    "        ax = plt.subplot(5,2,i)\n",
    "        my_imshow(ax, krn)\n",
    "\n",
    "i += 1\n",
    "\n",
    "ax = plt.subplot(5,2,i)\n",
    "plot_spikes(spikes[:img_w*img_h], color='g')\n",
    "plot_spikes(spikes[img_w*img_h:2*img_w*img_h], color='r')\n",
    "plt.savefig('retina_orient_pres01.png', dpi=150)\n",
    "plt.show()"
   ]
  },
  {
   "cell_type": "code",
   "execution_count": null,
   "metadata": {
    "collapsed": false
   },
   "outputs": [],
   "source": [
    "fig = plt.figure(figsize=(10, 4))\n",
    "\n",
    "i = 0\n",
    "for p in out_spks['on'].keys():\n",
    "    for t in out_spks['on'][p].keys():\n",
    "        if t != 'ganglion':\n",
    "            continue\n",
    "        if p == 'cs':\n",
    "            krn = retina.cs\n",
    "            \n",
    "        else:\n",
    "            krn = retina.gab[p]\n",
    "            continue\n",
    "            \n",
    "        i += 1\n",
    "        ax = plt.subplot(2,2,i)\n",
    "        plot_output_spikes(out_spks['on'][p][t], color='g')\n",
    "        plot_output_spikes(out_spks['off'][p][t], color='r')\n",
    "        \n",
    "        i += 1\n",
    "        ax = plt.subplot(2,2,i)\n",
    "        my_imshow(ax, krn)\n",
    "\n",
    "i += 1\n",
    "\n",
    "ax = plt.subplot(2,2,i)\n",
    "plot_spikes(spikes[:img_w*img_h], color='g')\n",
    "plot_spikes(spikes[img_w*img_h:2*img_w*img_h], color='r')\n",
    "plt.savefig('retina_ctr-srr_pres01.png', dpi=150)\n",
    "plt.show()"
   ]
  },
  {
   "cell_type": "code",
   "execution_count": null,
   "metadata": {
    "collapsed": true
   },
   "outputs": [],
   "source": []
  },
  {
   "cell_type": "code",
   "execution_count": null,
   "metadata": {
    "collapsed": true
   },
   "outputs": [],
   "source": []
  }
 ],
 "metadata": {
  "kernelspec": {
   "display_name": "Python 2",
   "language": "python2",
   "name": "python2"
  },
  "language_info": {
   "codemirror_mode": {
    "name": "ipython",
    "version": 2
   },
   "file_extension": ".py",
   "mimetype": "text/x-python",
   "name": "python",
   "nbconvert_exporter": "python",
   "pygments_lexer": "ipython2",
   "version": "2.7.13"
  }
 },
 "nbformat": 4,
 "nbformat_minor": 0
}
