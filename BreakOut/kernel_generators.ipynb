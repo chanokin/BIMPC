{
 "cells": [
  {
   "cell_type": "code",
   "execution_count": 2,
   "metadata": {
    "collapsed": false
   },
   "outputs": [],
   "source": [
    "%matplotlib inline\n",
    "%reload_ext autoreload\n",
    "%autoreload 2\n",
    "\n",
    "import numpy as np\n",
    "import pylab as plt\n",
    "from scipy.signal import convolve2d, correlate2d\n",
    "import vision.sim_tools.kernels.center_surround as csgen\n",
    "import vision.sim_tools.kernels.gabor as gabgen\n",
    "from vision.spike_tools.vis import my_imshow\n",
    "\n",
    "def mse(mat0, mat1):\n",
    "    return ((mat0 - mat1)**2).mean()\n"
   ]
  },
  {
   "cell_type": "code",
   "execution_count": 9,
   "metadata": {
    "collapsed": false
   },
   "outputs": [
    {
     "name": "stdout",
     "output_type": "stream",
     "text": [
      "(-0.1825167823773711, 0.34327059639417767)\n",
      "6.32827124036e-15\n",
      "1.0\n"
     ]
    },
    {
     "data": {
      "image/png": "[encoded data removed]",
      "text/plain": [
       "<matplotlib.figure.Figure at 0x4aaef50>"
      ]
     },
     "metadata": {},
     "output_type": "display_data"
    }
   ],
   "source": [
    "kernel_w = 7\n",
    "std_dev = 1.866664\n",
    "sd_mult = 6.7\n",
    "csk = csgen.center_surround_kernel(kernel_w, std_dev, sd_mult)\n",
    "print(csk.min(), csk.max())\n",
    "print(csk.sum())\n",
    "print((csk**2).sum())\n",
    "fig = plt.figure()\n",
    "ax = plt.subplot(1,1,1)\n",
    "im = my_imshow(ax, csk, cmap=None)#, vmin=-1, vmax=1)\n",
    "fig.colorbar(im, ax=ax)\n",
    "plt.show()"
   ]
  },
  {
   "cell_type": "code",
   "execution_count": 12,
   "metadata": {
    "collapsed": false
   },
   "outputs": [
    {
     "name": "stdout",
     "output_type": "stream",
     "text": [
      "(-0.084232483352109089, 0.16678159378259727)\n",
      "9.0621954385e-15\n",
      "1.0\n"
     ]
    },
    {
     "data": {
      "image/png": "[encoded data removed]",
      "text/plain": [
       "<matplotlib.figure.Figure at 0x4c44e10>"
      ]
     },
     "metadata": {},
     "output_type": "display_data"
    }
   ],
   "source": [
    "kernel_w = 15\n",
    "std_dev = 1.866664*2#3.6\n",
    "sd_mult = 6.7\n",
    "csk = csgen.center_surround_kernel(kernel_w, std_dev, sd_mult)\n",
    "print(csk.min(), csk.max())\n",
    "print(csk.sum())\n",
    "print((csk**2).sum())\n",
    "fig = plt.figure()\n",
    "ax = plt.subplot(1,1,1)\n",
    "im = my_imshow(ax, csk, cmap=None)#, vmin=-1, vmax=1)\n",
    "fig.colorbar(im, ax=ax)\n",
    "plt.show()"
   ]
  },
  {
   "cell_type": "code",
   "execution_count": 5,
   "metadata": {
    "collapsed": false
   },
   "outputs": [
    {
     "name": "stdout",
     "output_type": "stream",
     "text": [
      "[[-0.61959991 -0.58140015 -0.51121364 -0.42064125 -0.32500942 -0.24093912\n",
      "  -0.18342533 -0.16298465 -0.18342533 -0.24093912 -0.32500942 -0.42064125\n",
      "  -0.51121364 -0.58140015 -0.61959991]\n",
      " [-0.58140015 -0.53824859 -0.45896602 -0.35665948 -0.24864247 -0.15368771\n",
      "  -0.08872913 -0.06564272 -0.08872913 -0.15368771 -0.24864247 -0.35665948\n",
      "  -0.45896602 -0.53824859 -0.58140015]\n",
      " [-0.51121364 -0.45896602 -0.36297466 -0.23911336 -0.10834572  0.00660299\n",
      "   0.08523709  0.1131835   0.08523709  0.00660299 -0.10834572 -0.23911336\n",
      "  -0.36297466 -0.45896602 -0.51121364]\n",
      " [-0.42064125 -0.35665948 -0.23911336 -0.08744591  0.0726706   0.21341197\n",
      "   0.30968781  0.34390375  0.30968781  0.21341197  0.0726706  -0.08744591\n",
      "  -0.23911336 -0.35665948 -0.42064125]\n",
      " [-0.32500942 -0.24864247 -0.10834572  0.0726706   0.26376426  0.43172928\n",
      "   0.54662563  0.58745892  0.54662563  0.43172928  0.26376426  0.0726706\n",
      "  -0.10834572 -0.24864247 -0.32500942]\n",
      " [-0.24093912 -0.15368771  0.00660299  0.21341197  0.43172928  0.62361926\n",
      "   0.75487987  0.80152868  0.75487987  0.62361926  0.43172928  0.21341197\n",
      "   0.00660299 -0.15368771 -0.24093912]\n",
      " [-0.18342533 -0.08872913  0.08523709  0.30968781  0.54662563  0.75487987\n",
      "   0.89733334  0.94795987  0.89733334  0.75487987  0.54662563  0.30968781\n",
      "   0.08523709 -0.08872913 -0.18342533]\n",
      " [-0.16298465 -0.06564272  0.1131835   0.34390375  0.58745892  0.80152868\n",
      "   0.94795987  1.          0.94795987  0.80152868  0.58745892  0.34390375\n",
      "   0.1131835  -0.06564272 -0.16298465]\n",
      " [-0.18342533 -0.08872913  0.08523709  0.30968781  0.54662563  0.75487987\n",
      "   0.89733334  0.94795987  0.89733334  0.75487987  0.54662563  0.30968781\n",
      "   0.08523709 -0.08872913 -0.18342533]\n",
      " [-0.24093912 -0.15368771  0.00660299  0.21341197  0.43172928  0.62361926\n",
      "   0.75487987  0.80152868  0.75487987  0.62361926  0.43172928  0.21341197\n",
      "   0.00660299 -0.15368771 -0.24093912]\n",
      " [-0.32500942 -0.24864247 -0.10834572  0.0726706   0.26376426  0.43172928\n",
      "   0.54662563  0.58745892  0.54662563  0.43172928  0.26376426  0.0726706\n",
      "  -0.10834572 -0.24864247 -0.32500942]\n",
      " [-0.42064125 -0.35665948 -0.23911336 -0.08744591  0.0726706   0.21341197\n",
      "   0.30968781  0.34390375  0.30968781  0.21341197  0.0726706  -0.08744591\n",
      "  -0.23911336 -0.35665948 -0.42064125]\n",
      " [-0.51121364 -0.45896602 -0.36297466 -0.23911336 -0.10834572  0.00660299\n",
      "   0.08523709  0.1131835   0.08523709  0.00660299 -0.10834572 -0.23911336\n",
      "  -0.36297466 -0.45896602 -0.51121364]\n",
      " [-0.58140015 -0.53824859 -0.45896602 -0.35665948 -0.24864247 -0.15368771\n",
      "  -0.08872913 -0.06564272 -0.08872913 -0.15368771 -0.24864247 -0.35665948\n",
      "  -0.45896602 -0.53824859 -0.58140015]\n",
      " [-0.61959991 -0.58140015 -0.51121364 -0.42064125 -0.32500942 -0.24093912\n",
      "  -0.18342533 -0.16298465 -0.18342533 -0.24093912 -0.32500942 -0.42064125\n",
      "  -0.51121364 -0.58140015 -0.61959991]]\n",
      "[[-0.21789289 -0.26511129 -0.28247065 -0.26784438 -0.22800609 -0.17580186\n",
      "  -0.12564714 -0.08931724 -0.12564714 -0.17580186 -0.22800609 -0.26784438\n",
      "  -0.28247065 -0.26511129 -0.21789289]\n",
      " [-0.26511129 -0.31302822 -0.3220097  -0.29063822 -0.2289407  -0.15467112\n",
      "  -0.08740131 -0.04292811 -0.08740131 -0.15467112 -0.2289407  -0.29063822\n",
      "  -0.3220097  -0.31302822 -0.26511129]\n",
      " [-0.28247065 -0.3220097  -0.31342994 -0.25666624 -0.16559724 -0.06341359\n",
      "   0.02473159  0.07876413  0.02473159 -0.06341359 -0.16559724 -0.25666624\n",
      "  -0.31342994 -0.3220097  -0.28247065]\n",
      " [-0.26784438 -0.29063822 -0.25666624 -0.1677359  -0.04188122  0.09214347\n",
      "   0.20358602  0.26814789  0.20358602  0.09214347 -0.04188122 -0.1677359\n",
      "  -0.25666624 -0.29063822 -0.26784438]\n",
      " [-0.22800609 -0.2289407  -0.16559724 -0.04188122  0.12014752  0.28655143\n",
      "   0.42144366  0.49670064  0.42144366  0.28655143  0.12014752 -0.04188122\n",
      "  -0.16559724 -0.2289407  -0.22800609]\n",
      " [-0.17580186 -0.15467112 -0.06341359  0.09214347  0.28655143  0.48162315\n",
      "   0.63730836  0.72241045  0.63730836  0.48162315  0.28655143  0.09214347\n",
      "  -0.06341359 -0.15467112 -0.17580186]\n",
      " [-0.12564714 -0.08740131  0.02473159  0.20358602  0.42144366  0.63730836\n",
      "   0.8083935   0.90149225  0.8083935   0.63730836  0.42144366  0.20358602\n",
      "   0.02473159 -0.08740131 -0.12564714]\n",
      " [-0.08931724 -0.04292811  0.07876413  0.26814789  0.49670064  0.72241045\n",
      "   0.90149225  1.          0.90149225  0.72241045  0.49670064  0.26814789\n",
      "   0.07876413 -0.04292811 -0.08931724]\n",
      " [-0.12564714 -0.08740131  0.02473159  0.20358602  0.42144366  0.63730836\n",
      "   0.8083935   0.90149225  0.8083935   0.63730836  0.42144366  0.20358602\n",
      "   0.02473159 -0.08740131 -0.12564714]\n",
      " [-0.17580186 -0.15467112 -0.06341359  0.09214347  0.28655143  0.48162315\n",
      "   0.63730836  0.72241045  0.63730836  0.48162315  0.28655143  0.09214347\n",
      "  -0.06341359 -0.15467112 -0.17580186]\n",
      " [-0.22800609 -0.2289407  -0.16559724 -0.04188122  0.12014752  0.28655143\n",
      "   0.42144366  0.49670064  0.42144366  0.28655143  0.12014752 -0.04188122\n",
      "  -0.16559724 -0.2289407  -0.22800609]\n",
      " [-0.26784438 -0.29063822 -0.25666624 -0.1677359  -0.04188122  0.09214347\n",
      "   0.20358602  0.26814789  0.20358602  0.09214347 -0.04188122 -0.1677359\n",
      "  -0.25666624 -0.29063822 -0.26784438]\n",
      " [-0.28247065 -0.3220097  -0.31342994 -0.25666624 -0.16559724 -0.06341359\n",
      "   0.02473159  0.07876413  0.02473159 -0.06341359 -0.16559724 -0.25666624\n",
      "  -0.31342994 -0.3220097  -0.28247065]\n",
      " [-0.26511129 -0.31302822 -0.3220097  -0.29063822 -0.2289407  -0.15467112\n",
      "  -0.08740131 -0.04292811 -0.08740131 -0.15467112 -0.2289407  -0.29063822\n",
      "  -0.3220097  -0.31302822 -0.26511129]\n",
      " [-0.21789289 -0.26511129 -0.28247065 -0.26784438 -0.22800609 -0.17580186\n",
      "  -0.12564714 -0.08931724 -0.12564714 -0.17580186 -0.22800609 -0.26784438\n",
      "  -0.28247065 -0.26511129 -0.21789289]]\n"
     ]
    }
   ],
   "source": [
    "cs_corr0 = convolve2d(csk, csk, mode='same', boundary='wrap')\n",
    "print(cs_corr0)\n",
    "cs_corr1 = correlate2d(csk, csk, mode='same')\n",
    "print(cs_corr1)"
   ]
  },
  {
   "cell_type": "code",
   "execution_count": 6,
   "metadata": {
    "collapsed": false
   },
   "outputs": [
    {
     "data": {
      "image/png": "[encoded data removed]",
      "text/plain": [
       "<matplotlib.figure.Figure at 0x4ad2610>"
      ]
     },
     "metadata": {},
     "output_type": "display_data"
    },
    {
     "data": {
      "image/png": "[encoded data removed]",
      "text/plain": [
       "<matplotlib.figure.Figure at 0x4070a50>"
      ]
     },
     "metadata": {},
     "output_type": "display_data"
    },
    {
     "data": {
      "image/png": "[encoded data removed]",
      "text/plain": [
       "<matplotlib.figure.Figure at 0x4c67d90>"
      ]
     },
     "metadata": {},
     "output_type": "display_data"
    },
    {
     "data": {
      "image/png": "[encoded data removed]",
      "text/plain": [
       "<matplotlib.figure.Figure at 0x4c67dd0>"
      ]
     },
     "metadata": {},
     "output_type": "display_data"
    },
    {
     "data": {
      "image/png": "[encoded data removed]",
      "text/plain": [
       "<matplotlib.figure.Figure at 0x4c51ed0>"
      ]
     },
     "metadata": {},
     "output_type": "display_data"
    },
    {
     "data": {
      "image/png": "[encoded data removed]",
      "text/plain": [
       "<matplotlib.figure.Figure at 0x4070a50>"
      ]
     },
     "metadata": {},
     "output_type": "display_data"
    },
    {
     "data": {
      "image/png": "[encoded data removed]",
      "text/plain": [
       "<matplotlib.figure.Figure at 0x304dfd0>"
      ]
     },
     "metadata": {},
     "output_type": "display_data"
    },
    {
     "data": {
      "image/png": "[encoded data removed]",
      "text/plain": [
       "<matplotlib.figure.Figure at 0x49d7b50>"
      ]
     },
     "metadata": {},
     "output_type": "display_data"
    },
    {
     "data": {
      "image/png": "[encoded data removed]",
      "text/plain": [
       "<matplotlib.figure.Figure at 0x49d7bd0>"
      ]
     },
     "metadata": {},
     "output_type": "display_data"
    },
    {
     "data": {
      "image/png": "[encoded data removed]",
      "text/plain": [
       "<matplotlib.figure.Figure at 0x4e4cc10>"
      ]
     },
     "metadata": {},
     "output_type": "display_data"
    },
    {
     "data": {
      "image/png": "[encoded data removed]",
      "text/plain": [
       "<matplotlib.figure.Figure at 0x304dfd0>"
      ]
     },
     "metadata": {},
     "output_type": "display_data"
    },
    {
     "data": {
      "image/png": "[encoded data removed]",
      "text/plain": [
       "<matplotlib.figure.Figure at 0x4c51ed0>"
      ]
     },
     "metadata": {},
     "output_type": "display_data"
    },
    {
     "data": {
      "image/png": "[encoded data removed]",
      "text/plain": [
       "<matplotlib.figure.Figure at 0x49d7bd0>"
      ]
     },
     "metadata": {},
     "output_type": "display_data"
    },
    {
     "data": {
      "image/png": "[encoded data removed]",
      "text/plain": [
       "<matplotlib.figure.Figure at 0x4c58050>"
      ]
     },
     "metadata": {},
     "output_type": "display_data"
    },
    {
     "data": {
      "image/png": "[encoded data removed]",
      "text/plain": [
       "<matplotlib.figure.Figure at 0x2f33b90>"
      ]
     },
     "metadata": {},
     "output_type": "display_data"
    },
    {
     "data": {
      "image/png": "[encoded data removed]",
      "text/plain": [
       "<matplotlib.figure.Figure at 0x304dfd0>"
      ]
     },
     "metadata": {},
     "output_type": "display_data"
    },
    {
     "data": {
      "image/png": "[encoded data removed]",
      "text/plain": [
       "<matplotlib.figure.Figure at 0x4070a50>"
      ]
     },
     "metadata": {},
     "output_type": "display_data"
    },
    {
     "data": {
      "image/png": "[encoded data removed]",
      "text/plain": [
       "<matplotlib.figure.Figure at 0x4e73510>"
      ]
     },
     "metadata": {},
     "output_type": "display_data"
    },
    {
     "data": {
      "image/png": "[encoded data removed]",
      "text/plain": [
       "<matplotlib.figure.Figure at 0x4c67d90>"
      ]
     },
     "metadata": {},
     "output_type": "display_data"
    },
    {
     "data": {
      "image/png": "[encoded data removed]",
      "text/plain": [
       "<matplotlib.figure.Figure at 0x4c67dd0>"
      ]
     },
     "metadata": {},
     "output_type": "display_data"
    },
    {
     "data": {
      "image/png": "[encoded data removed]",
      "text/plain": [
       "<matplotlib.figure.Figure at 0x49ead90>"
      ]
     },
     "metadata": {},
     "output_type": "display_data"
    },
    {
     "data": {
      "image/png": "[encoded data removed]",
      "text/plain": [
       "<matplotlib.figure.Figure at 0x4c3ea90>"
      ]
     },
     "metadata": {},
     "output_type": "display_data"
    },
    {
     "data": {
      "image/png": "[encoded data removed]",
      "text/plain": [
       "<matplotlib.figure.Figure at 0x4e69ed0>"
      ]
     },
     "metadata": {},
     "output_type": "display_data"
    },
    {
     "data": {
      "image/png": "[encoded data removed]",
      "text/plain": [
       "<matplotlib.figure.Figure at 0x49d7b50>"
      ]
     },
     "metadata": {},
     "output_type": "display_data"
    },
    {
     "data": {
      "image/png": "[encoded data removed]",
      "text/plain": [
       "<matplotlib.figure.Figure at 0x4c67d90>"
      ]
     },
     "metadata": {},
     "output_type": "display_data"
    },
    {
     "data": {
      "image/png": "[encoded data removed]",
      "text/plain": [
       "<matplotlib.figure.Figure at 0x304dfd0>"
      ]
     },
     "metadata": {},
     "output_type": "display_data"
    },
    {
     "data": {
      "image/png": "[encoded data removed]",
      "text/plain": [
       "<matplotlib.figure.Figure at 0x49ead90>"
      ]
     },
     "metadata": {},
     "output_type": "display_data"
    },
    {
     "data": {
      "image/png": "[encoded data removed]",
      "text/plain": [
       "<matplotlib.figure.Figure at 0x4c58050>"
      ]
     },
     "metadata": {},
     "output_type": "display_data"
    },
    {
     "data": {
      "image/png": "[encoded data removed]",
      "text/plain": [
       "<matplotlib.figure.Figure at 0x4070a50>"
      ]
     },
     "metadata": {},
     "output_type": "display_data"
    },
    {
     "data": {
      "image/png": "[encoded data removed]",
      "text/plain": [
       "<matplotlib.figure.Figure at 0x4c51ed0>"
      ]
     },
     "metadata": {},
     "output_type": "display_data"
    },
    {
     "data": {
      "image/png": "[encoded data removed]",
      "text/plain": [
       "<matplotlib.figure.Figure at 0x49d7bd0>"
      ]
     },
     "metadata": {},
     "output_type": "display_data"
    },
    {
     "data": {
      "image/png": "[encoded data removed]",
      "text/plain": [
       "<matplotlib.figure.Figure at 0x4c3ea10>"
      ]
     },
     "metadata": {},
     "output_type": "display_data"
    },
    {
     "data": {
      "image/png": "[encoded data removed]",
      "text/plain": [
       "<matplotlib.figure.Figure at 0x4c67d90>"
      ]
     },
     "metadata": {},
     "output_type": "display_data"
    },
    {
     "data": {
      "image/png": "[encoded data removed]",
      "text/plain": [
       "<matplotlib.figure.Figure at 0x4e73510>"
      ]
     },
     "metadata": {},
     "output_type": "display_data"
    },
    {
     "data": {
      "image/png": "[encoded data removed]",
      "text/plain": [
       "<matplotlib.figure.Figure at 0x4c51ed0>"
      ]
     },
     "metadata": {},
     "output_type": "display_data"
    },
    {
     "data": {
      "image/png": "[encoded data removed]",
      "text/plain": [
       "<matplotlib.figure.Figure at 0x49d7bd0>"
      ]
     },
     "metadata": {},
     "output_type": "display_data"
    },
    {
     "data": {
      "image/png": "[encoded data removed]",
      "text/plain": [
       "<matplotlib.figure.Figure at 0x4070a50>"
      ]
     },
     "metadata": {},
     "output_type": "display_data"
    },
    {
     "data": {
      "image/png": "[encoded data removed]",
      "text/plain": [
       "<matplotlib.figure.Figure at 0x304dfd0>"
      ]
     },
     "metadata": {},
     "output_type": "display_data"
    },
    {
     "data": {
      "image/png": "[encoded data removed]",
      "text/plain": [
       "<matplotlib.figure.Figure at 0x4c67d90>"
      ]
     },
     "metadata": {},
     "output_type": "display_data"
    },
    {
     "data": {
      "image/png": "[encoded data removed]",
      "text/plain": [
       "<matplotlib.figure.Figure at 0x4e73510>"
      ]
     },
     "metadata": {},
     "output_type": "display_data"
    },
    {
     "data": {
      "image/png": "[encoded data removed]",
      "text/plain": [
       "<matplotlib.figure.Figure at 0x49d7b50>"
      ]
     },
     "metadata": {},
     "output_type": "display_data"
    },
    {
     "data": {
      "image/png": "[encoded data removed]",
      "text/plain": [
       "<matplotlib.figure.Figure at 0x49d7bd0>"
      ]
     },
     "metadata": {},
     "output_type": "display_data"
    },
    {
     "data": {
      "image/png": "[encoded data removed]",
      "text/plain": [
       "<matplotlib.figure.Figure at 0x4070a50>"
      ]
     },
     "metadata": {},
     "output_type": "display_data"
    },
    {
     "data": {
      "image/png": "[encoded data removed]",
      "text/plain": [
       "<matplotlib.figure.Figure at 0x4e69910>"
      ]
     },
     "metadata": {},
     "output_type": "display_data"
    },
    {
     "data": {
      "image/png": "[encoded data removed]",
      "text/plain": [
       "<matplotlib.figure.Figure at 0x4e69f10>"
      ]
     },
     "metadata": {},
     "output_type": "display_data"
    },
    {
     "data": {
      "image/png": "[encoded data removed]",
      "text/plain": [
       "<matplotlib.figure.Figure at 0x304dfd0>"
      ]
     },
     "metadata": {},
     "output_type": "display_data"
    },
    {
     "data": {
      "image/png": "[encoded data removed]",
      "text/plain": [
       "<matplotlib.figure.Figure at 0x4c51ed0>"
      ]
     },
     "metadata": {},
     "output_type": "display_data"
    },
    {
     "data": {
      "image/png": "[encoded data removed]",
      "text/plain": [
       "<matplotlib.figure.Figure at 0x4e73510>"
      ]
     },
     "metadata": {},
     "output_type": "display_data"
    },
    {
     "data": {
      "image/png": "[encoded data removed]",
      "text/plain": [
       "<matplotlib.figure.Figure at 0x4c58050>"
      ]
     },
     "metadata": {},
     "output_type": "display_data"
    },
    {
     "data": {
      "image/png": "[encoded data removed]",
      "text/plain": [
       "<matplotlib.figure.Figure at 0x4acf5d0>"
      ]
     },
     "metadata": {},
     "output_type": "display_data"
    },
    {
     "data": {
      "image/png": "[encoded data removed]",
      "text/plain": [
       "<matplotlib.figure.Figure at 0x2f33b90>"
      ]
     },
     "metadata": {},
     "output_type": "display_data"
    },
    {
     "data": {
      "image/png": "[encoded data removed]",
      "text/plain": [
       "<matplotlib.figure.Figure at 0x4e57510>"
      ]
     },
     "metadata": {},
     "output_type": "display_data"
    },
    {
     "data": {
      "image/png": "[encoded data removed]",
      "text/plain": [
       "<matplotlib.figure.Figure at 0x49d7b50>"
      ]
     },
     "metadata": {},
     "output_type": "display_data"
    },
    {
     "data": {
      "image/png": "[encoded data removed]",
      "text/plain": [
       "<matplotlib.figure.Figure at 0x4c51ed0>"
      ]
     },
     "metadata": {},
     "output_type": "display_data"
    },
    {
     "data": {
      "image/png": "[encoded data removed]",
      "text/plain": [
       "<matplotlib.figure.Figure at 0x4c67dd0>"
      ]
     },
     "metadata": {},
     "output_type": "display_data"
    },
    {
     "data": {
      "image/png": "[encoded data removed]",
      "text/plain": [
       "<matplotlib.figure.Figure at 0x4e69910>"
      ]
     },
     "metadata": {},
     "output_type": "display_data"
    },
    {
     "data": {
      "image/png": "[encoded data removed]",
      "text/plain": [
       "<matplotlib.figure.Figure at 0x4c58050>"
      ]
     },
     "metadata": {},
     "output_type": "display_data"
    },
    {
     "data": {
      "image/png": "[encoded data removed]",
      "text/plain": [
       "<matplotlib.figure.Figure at 0x4e57510>"
      ]
     },
     "metadata": {},
     "output_type": "display_data"
    },
    {
     "data": {
      "image/png": "[encoded data removed]",
      "text/plain": [
       "<matplotlib.figure.Figure at 0x4070a50>"
      ]
     },
     "metadata": {},
     "output_type": "display_data"
    },
    {
     "data": {
      "image/png": "[encoded data removed]",
      "text/plain": [
       "<matplotlib.figure.Figure at 0x4e73510>"
      ]
     },
     "metadata": {},
     "output_type": "display_data"
    },
    {
     "data": {
      "image/png": "[encoded data removed]",
      "text/plain": [
       "<matplotlib.figure.Figure at 0x49d7b50>"
      ]
     },
     "metadata": {},
     "output_type": "display_data"
    },
    {
     "data": {
      "image/png": "[encoded data removed]",
      "text/plain": [
       "<matplotlib.figure.Figure at 0x49d7bd0>"
      ]
     },
     "metadata": {},
     "output_type": "display_data"
    },
    {
     "data": {
      "image/png": "[encoded data removed]",
      "text/plain": [
       "<matplotlib.figure.Figure at 0x4c58050>"
      ]
     },
     "metadata": {},
     "output_type": "display_data"
    },
    {
     "data": {
      "image/png": "[encoded data removed]",
      "text/plain": [
       "<matplotlib.figure.Figure at 0x4c51ed0>"
      ]
     },
     "metadata": {},
     "output_type": "display_data"
    },
    {
     "data": {
      "image/png": "[encoded data removed]",
      "text/plain": [
       "<matplotlib.figure.Figure at 0x4070a50>"
      ]
     },
     "metadata": {},
     "output_type": "display_data"
    },
    {
     "data": {
      "image/png": "[encoded data removed]",
      "text/plain": [
       "<matplotlib.figure.Figure at 0x4e73510>"
      ]
     },
     "metadata": {},
     "output_type": "display_data"
    },
    {
     "data": {
      "image/png": "[encoded data removed]",
      "text/plain": [
       "<matplotlib.figure.Figure at 0x49d7bd0>"
      ]
     },
     "metadata": {},
     "output_type": "display_data"
    },
    {
     "data": {
      "image/png": "[encoded data removed]",
      "text/plain": [
       "<matplotlib.figure.Figure at 0x4e697d0>"
      ]
     },
     "metadata": {},
     "output_type": "display_data"
    },
    {
     "data": {
      "image/png": "[encoded data removed]",
      "text/plain": [
       "<matplotlib.figure.Figure at 0x304dfd0>"
      ]
     },
     "metadata": {},
     "output_type": "display_data"
    },
    {
     "data": {
      "image/png": "[encoded data removed]",
      "text/plain": [
       "<matplotlib.figure.Figure at 0x4e73510>"
      ]
     },
     "metadata": {},
     "output_type": "display_data"
    },
    {
     "data": {
      "image/png": "[encoded data removed]",
      "text/plain": [
       "<matplotlib.figure.Figure at 0x4c58050>"
      ]
     },
     "metadata": {},
     "output_type": "display_data"
    },
    {
     "data": {
      "image/png": "[encoded data removed]",
      "text/plain": [
       "<matplotlib.figure.Figure at 0x2f33b90>"
      ]
     },
     "metadata": {},
     "output_type": "display_data"
    },
    {
     "data": {
      "image/png": "[encoded data removed]",
      "text/plain": [
       "<matplotlib.figure.Figure at 0x2f33b50>"
      ]
     },
     "metadata": {},
     "output_type": "display_data"
    },
    {
     "data": {
      "image/png": "[encoded data removed]",
      "text/plain": [
       "<matplotlib.figure.Figure at 0x4070a50>"
      ]
     },
     "metadata": {},
     "output_type": "display_data"
    },
    {
     "data": {
      "image/png": "[encoded data removed]",
      "text/plain": [
       "<matplotlib.figure.Figure at 0x4e528d0>"
      ]
     },
     "metadata": {},
     "output_type": "display_data"
    },
    {
     "data": {
      "image/png": "[encoded data removed]",
      "text/plain": [
       "<matplotlib.figure.Figure at 0x49d7bd0>"
      ]
     },
     "metadata": {},
     "output_type": "display_data"
    },
    {
     "data": {
      "image/png": "[encoded data removed]",
      "text/plain": [
       "<matplotlib.figure.Figure at 0x4c58050>"
      ]
     },
     "metadata": {},
     "output_type": "display_data"
    },
    {
     "data": {
      "image/png": "[encoded data removed]",
      "text/plain": [
       "<matplotlib.figure.Figure at 0x4c51ed0>"
      ]
     },
     "metadata": {},
     "output_type": "display_data"
    },
    {
     "data": {
      "image/png": "[encoded data removed]",
      "text/plain": [
       "<matplotlib.figure.Figure at 0x4c3e690>"
      ]
     },
     "metadata": {},
     "output_type": "display_data"
    },
    {
     "data": {
      "image/png": "[encoded data removed]",
      "text/plain": [
       "<matplotlib.figure.Figure at 0x4e73510>"
      ]
     },
     "metadata": {},
     "output_type": "display_data"
    },
    {
     "data": {
      "image/png": "[encoded data removed]",
      "text/plain": [
       "<matplotlib.figure.Figure at 0x2f33b50>"
      ]
     },
     "metadata": {},
     "output_type": "display_data"
    }
   ],
   "source": [
    "# freq = 4.\n",
    "# print( np.cos(90*(np.pi/180.)) )\n",
    "freq = 1.#5.\n",
    "sig = 3.\n",
    "pi_divs = 4\n",
    "# pi_frac = 45.*np.pi/180.\n",
    "pi_frac = np.pi/float(pi_divs)\n",
    "\n",
    "for freq in range(1, 10):\n",
    "    for sig in range(1, 10):\n",
    "        gk = gabgen.multi_gabor(kernel_w, [i*pi_frac for i in range(pi_divs)],\n",
    "                                sig, freq)\n",
    "        # print([i*pi_frac*180./np.pi for i in range(pi_divs)])\n",
    "        cols = 4\n",
    "        rows = len(gk)//cols + 1\n",
    "        plt.figure()\n",
    "        plt.suptitle(\"frq = %d, sig = %d\"%(freq, sig))\n",
    "        div = 0\n",
    "        for k in gk.keys():\n",
    "            div += 1\n",
    "            ax = plt.subplot(rows, cols, div)\n",
    "#             my_imshow(ax, gk[k], vmin=-1, vmax=1)#, interpolation='bilinear')\n",
    "            my_imshow(ax, gk[k],cmap=None, vmin=-1, vmax=1)#, interpolation='bilinear')\n",
    "#             my_imshow(ax, gk[k], interpolation='bilinear')\n",
    "        plt.show()"
   ]
  },
  {
   "cell_type": "code",
   "execution_count": 7,
   "metadata": {
    "collapsed": false
   },
   "outputs": [
    {
     "ename": "ValueError",
     "evalue": "object of too small depth for desired array",
     "output_type": "error",
     "traceback": [
      "\u001b[1;31m---------------------------------------------------------------------------\u001b[0m",
      "\u001b[1;31mValueError\u001b[0m                                Traceback (most recent call last)",
      "\u001b[1;32m<ipython-input-7-3e2bc92c5bbc>\u001b[0m in \u001b[0;36m<module>\u001b[1;34m()\u001b[0m\n\u001b[0;32m      4\u001b[0m \u001b[0mplt\u001b[0m\u001b[1;33m.\u001b[0m\u001b[0mfigure\u001b[0m\u001b[1;33m(\u001b[0m\u001b[1;33m)\u001b[0m\u001b[1;33m\u001b[0m\u001b[0m\n\u001b[0;32m      5\u001b[0m \u001b[1;32mfor\u001b[0m \u001b[0mk\u001b[0m \u001b[1;32min\u001b[0m \u001b[0mgk\u001b[0m\u001b[1;33m:\u001b[0m\u001b[1;33m\u001b[0m\u001b[0m\n\u001b[1;32m----> 6\u001b[1;33m     \u001b[0mkc\u001b[0m \u001b[1;33m=\u001b[0m \u001b[0mconvolve2d\u001b[0m\u001b[1;33m(\u001b[0m\u001b[0mk\u001b[0m\u001b[1;33m,\u001b[0m \u001b[0mk\u001b[0m\u001b[1;33m,\u001b[0m \u001b[0mmode\u001b[0m\u001b[1;33m=\u001b[0m\u001b[1;34m'same'\u001b[0m\u001b[1;33m)\u001b[0m\u001b[1;33m\u001b[0m\u001b[0m\n\u001b[0m\u001b[0;32m      7\u001b[0m     \u001b[1;32mprint\u001b[0m\u001b[1;33m(\u001b[0m\u001b[0mkc\u001b[0m\u001b[1;33m)\u001b[0m\u001b[1;33m\u001b[0m\u001b[0m\n\u001b[0;32m      8\u001b[0m     \u001b[0mdiv\u001b[0m \u001b[1;33m+=\u001b[0m \u001b[1;36m1\u001b[0m\u001b[1;33m\u001b[0m\u001b[0m\n",
      "\u001b[1;32m/usr/lib64/python2.7/site-packages/scipy/signal/signaltools.pyc\u001b[0m in \u001b[0;36mconvolve2d\u001b[1;34m(in1, in2, mode, boundary, fillvalue)\u001b[0m\n\u001b[0;32m    490\u001b[0m         \u001b[0mwarnings\u001b[0m\u001b[1;33m.\u001b[0m\u001b[0msimplefilter\u001b[0m\u001b[1;33m(\u001b[0m\u001b[1;34m'ignore'\u001b[0m\u001b[1;33m,\u001b[0m \u001b[0mnp\u001b[0m\u001b[1;33m.\u001b[0m\u001b[0mComplexWarning\u001b[0m\u001b[1;33m)\u001b[0m\u001b[1;33m\u001b[0m\u001b[0m\n\u001b[0;32m    491\u001b[0m         \u001b[1;31m# FIXME: some cast generates a warning here\u001b[0m\u001b[1;33m\u001b[0m\u001b[1;33m\u001b[0m\u001b[0m\n\u001b[1;32m--> 492\u001b[1;33m         \u001b[0mout\u001b[0m \u001b[1;33m=\u001b[0m \u001b[0msigtools\u001b[0m\u001b[1;33m.\u001b[0m\u001b[0m_convolve2d\u001b[0m\u001b[1;33m(\u001b[0m\u001b[0min1\u001b[0m\u001b[1;33m,\u001b[0m \u001b[0min2\u001b[0m\u001b[1;33m,\u001b[0m \u001b[1;36m1\u001b[0m\u001b[1;33m,\u001b[0m \u001b[0mval\u001b[0m\u001b[1;33m,\u001b[0m \u001b[0mbval\u001b[0m\u001b[1;33m,\u001b[0m \u001b[0mfillvalue\u001b[0m\u001b[1;33m)\u001b[0m\u001b[1;33m\u001b[0m\u001b[0m\n\u001b[0m\u001b[0;32m    493\u001b[0m \u001b[1;33m\u001b[0m\u001b[0m\n\u001b[0;32m    494\u001b[0m     \u001b[1;32mreturn\u001b[0m \u001b[0mout\u001b[0m\u001b[1;33m\u001b[0m\u001b[0m\n",
      "\u001b[1;31mValueError\u001b[0m: object of too small depth for desired array"
     ]
    },
    {
     "data": {
      "text/plain": [
       "<matplotlib.figure.Figure at 0x4e69910>"
      ]
     },
     "metadata": {},
     "output_type": "display_data"
    }
   ],
   "source": [
    "cols = 4\n",
    "rows = len(gk)//cols + 1\n",
    "div = 0\n",
    "plt.figure()\n",
    "for k in gk:\n",
    "    kc = convolve2d(k, k, mode='same')\n",
    "    print(kc)\n",
    "    div += 1\n",
    "    ax = plt.subplot(rows, cols, div)\n",
    "    my_imshow(ax, kc, vmin=-1, vmax=1)#, interpolation='bilinear')\n",
    "plt.show()"
   ]
  },
  {
   "cell_type": "code",
   "execution_count": null,
   "metadata": {
    "collapsed": true
   },
   "outputs": [],
   "source": []
  }
 ],
 "metadata": {
  "kernelspec": {
   "display_name": "Python 2",
   "language": "python",
   "name": "python2"
  },
  "language_info": {
   "codemirror_mode": {
    "name": "ipython",
    "version": 2
   },
   "file_extension": ".py",
   "mimetype": "text/x-python",
   "name": "python",
   "nbconvert_exporter": "python",
   "pygments_lexer": "ipython2",
   "version": "2.7.5"
  }
 },
 "nbformat": 4,
 "nbformat_minor": 0
}
